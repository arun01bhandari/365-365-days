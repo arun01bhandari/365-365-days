{
 "cells": [
  {
   "cell_type": "code",
   "execution_count": 1,
   "id": "38cb993f-c694-40e8-94fa-c0f0480fa0c8",
   "metadata": {},
   "outputs": [],
   "source": [
    "import numpy as np"
   ]
  },
  {
   "cell_type": "code",
   "execution_count": 2,
   "id": "5d432c4d-55bf-4bf6-9fec-e714dc8ee0fe",
   "metadata": {},
   "outputs": [
    {
     "name": "stdout",
     "output_type": "stream",
     "text": [
      "[1 2 3 4 5]\n"
     ]
    }
   ],
   "source": [
    "arr01 = np.array([1,2,3,4,5])\n",
    "print(arr01)"
   ]
  },
  {
   "cell_type": "code",
   "execution_count": 3,
   "id": "a5d802a9-e278-471c-86c7-6c96c0eef572",
   "metadata": {},
   "outputs": [
    {
     "name": "stdout",
     "output_type": "stream",
     "text": [
      "['1' '2' '3' '4' 'Sunil']\n"
     ]
    }
   ],
   "source": [
    "arr02 = np.array([1,2,3,4,'Sunil'])\n",
    "print(arr02)"
   ]
  },
  {
   "cell_type": "code",
   "execution_count": 7,
   "id": "99ee49a6-5a81-4fa7-a167-53f4c14572eb",
   "metadata": {},
   "outputs": [
    {
     "name": "stdout",
     "output_type": "stream",
     "text": [
      "[1 2 3 4 1 3]\n"
     ]
    }
   ],
   "source": [
    "arr03 = np.array([1,2,3,4,1.0,3.0], dtype=int)\n",
    "print(arr03)"
   ]
  },
  {
   "cell_type": "code",
   "execution_count": 9,
   "id": "6c51de94-4c3c-438f-af70-3d2ecdea6ed9",
   "metadata": {},
   "outputs": [
    {
     "name": "stdout",
     "output_type": "stream",
     "text": [
      "[1 2 3 4 'Sunil' 'Arun']\n"
     ]
    }
   ],
   "source": [
    "arr04 = np.array([1,2,3,4,'Sunil','Arun'], dtype=object)\n",
    "print(arr04)"
   ]
  },
  {
   "cell_type": "code",
   "execution_count": 11,
   "id": "e4744d97-b4c5-429f-8eb8-0a4e4a09f702",
   "metadata": {},
   "outputs": [
    {
     "name": "stdout",
     "output_type": "stream",
     "text": [
      "1st item: 10\n",
      "2nd item: 20\n",
      "3rd item: 30\n",
      "4th item: 40\n"
     ]
    }
   ],
   "source": [
    "a = np.array([10,20,30,40,50])\n",
    "print(f'1st item: {a[0]}')\n",
    "print(f'2nd item: {a[1]}')\n",
    "print(f'3rd item: {a[2]}')\n",
    "print(f'4th item: {a[3]}')"
   ]
  },
  {
   "cell_type": "code",
   "execution_count": 14,
   "id": "fb7e8c06-d2e3-4bbe-8ebe-55fd8287945c",
   "metadata": {},
   "outputs": [
    {
     "name": "stdout",
     "output_type": "stream",
     "text": [
      "11\n",
      "12\n",
      "13\n",
      "14\n",
      "15\n",
      "16\n",
      "17\n",
      "18\n",
      "19\n"
     ]
    }
   ],
   "source": [
    "arr_2d = np.array([\n",
    "    [11,12,13],\n",
    "    [14,15,16],\n",
    "    [17,18,19]\n",
    "])\n",
    "print(f'{arr_2d[0,0]}')\n",
    "print(f'{arr_2d[0,1]}')\n",
    "print(f'{arr_2d[0,2]}')\n",
    "print(f'{arr_2d[1,0]}')\n",
    "print(f'{arr_2d[1,1]}')\n",
    "print(f'{arr_2d[1,2]}')\n",
    "print(f'{arr_2d[2,0]}')\n",
    "print(f'{arr_2d[2,1]}')\n",
    "print(f'{arr_2d[2,2]}')"
   ]
  },
  {
   "cell_type": "code",
   "execution_count": 16,
   "id": "5704c7a9-7282-40cc-9322-8cfed7cfc113",
   "metadata": {},
   "outputs": [
    {
     "name": "stdout",
     "output_type": "stream",
     "text": [
      "[20 30 40 50]\n"
     ]
    }
   ],
   "source": [
    "arr6 = np.array([10,20,30,40,50,60,70])\n",
    "arr6_slice = arr6[1:5]\n",
    "print(arr6_slice)"
   ]
  },
  {
   "cell_type": "code",
   "execution_count": 17,
   "id": "2cd2c619-3025-4c85-8092-5910acb6c3c0",
   "metadata": {},
   "outputs": [
    {
     "data": {
      "text/plain": [
       "array([50, 60, 70])"
      ]
     },
     "execution_count": 17,
     "metadata": {},
     "output_type": "execute_result"
    }
   ],
   "source": [
    "arr6[4:]"
   ]
  },
  {
   "cell_type": "code",
   "execution_count": 23,
   "id": "9889d4de-d2cc-497c-874b-bb81759d9618",
   "metadata": {},
   "outputs": [
    {
     "data": {
      "text/plain": [
       "array([10, 20, 30, 40, 50, 60, 70])"
      ]
     },
     "execution_count": 23,
     "metadata": {},
     "output_type": "execute_result"
    }
   ],
   "source": [
    "arr6[::1]"
   ]
  },
  {
   "cell_type": "code",
   "execution_count": 24,
   "id": "86ff5b54-58a4-4edd-a153-247f13317c8f",
   "metadata": {},
   "outputs": [
    {
     "data": {
      "text/plain": [
       "array([10, 30, 50, 70])"
      ]
     },
     "execution_count": 24,
     "metadata": {},
     "output_type": "execute_result"
    }
   ],
   "source": [
    "arr6[::2]"
   ]
  },
  {
   "cell_type": "code",
   "execution_count": 25,
   "id": "5d9c05bd-74d4-409f-8eab-102b58849b05",
   "metadata": {},
   "outputs": [
    {
     "data": {
      "text/plain": [
       "array([50, 60])"
      ]
     },
     "execution_count": 25,
     "metadata": {},
     "output_type": "execute_result"
    }
   ],
   "source": [
    "arr6[-3:-1]"
   ]
  },
  {
   "cell_type": "code",
   "execution_count": 26,
   "id": "557cb5d9-ae83-47a5-ae9e-11fcd458ad46",
   "metadata": {},
   "outputs": [
    {
     "data": {
      "text/plain": [
       "array([70, 60, 50, 40, 30, 20, 10])"
      ]
     },
     "execution_count": 26,
     "metadata": {},
     "output_type": "execute_result"
    }
   ],
   "source": [
    "arr6[::-1]"
   ]
  },
  {
   "cell_type": "code",
   "execution_count": null,
   "id": "48e7a197-ee22-437b-a841-1f4dfe193fe2",
   "metadata": {},
   "outputs": [],
   "source": [
    "arr6 = np.array(['Sun'])"
   ]
  }
 ],
 "metadata": {
  "kernelspec": {
   "display_name": "Python 3 (ipykernel)",
   "language": "python",
   "name": "python3"
  },
  "language_info": {
   "codemirror_mode": {
    "name": "ipython",
    "version": 3
   },
   "file_extension": ".py",
   "mimetype": "text/x-python",
   "name": "python",
   "nbconvert_exporter": "python",
   "pygments_lexer": "ipython3",
   "version": "3.9.13"
  }
 },
 "nbformat": 4,
 "nbformat_minor": 5
}
