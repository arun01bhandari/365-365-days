{
 "cells": [
  {
   "cell_type": "code",
   "execution_count": 1,
   "id": "38cb993f-c694-40e8-94fa-c0f0480fa0c8",
   "metadata": {},
   "outputs": [],
   "source": [
    "import numpy as np"
   ]
  },
  {
   "cell_type": "code",
   "execution_count": 2,
   "id": "5d432c4d-55bf-4bf6-9fec-e714dc8ee0fe",
   "metadata": {},
   "outputs": [
    {
     "name": "stdout",
     "output_type": "stream",
     "text": [
      "[1 2 3 4 5]\n"
     ]
    }
   ],
   "source": [
    "arr01 = np.array([1,2,3,4,5])\n",
    "print(arr01)"
   ]
  },
  {
   "cell_type": "code",
   "execution_count": 3,
   "id": "a5d802a9-e278-471c-86c7-6c96c0eef572",
   "metadata": {},
   "outputs": [
    {
     "name": "stdout",
     "output_type": "stream",
     "text": [
      "['1' '2' '3' '4' 'Sunil']\n"
     ]
    }
   ],
   "source": [
    "arr02 = np.array([1,2,3,4,'Sunil'])\n",
    "print(arr02)"
   ]
  },
  {
   "cell_type": "code",
   "execution_count": 7,
   "id": "99ee49a6-5a81-4fa7-a167-53f4c14572eb",
   "metadata": {},
   "outputs": [
    {
     "name": "stdout",
     "output_type": "stream",
     "text": [
      "[1 2 3 4 1 3]\n"
     ]
    }
   ],
   "source": [
    "arr03 = np.array([1,2,3,4,1.0,3.0], dtype=int)\n",
    "print(arr03)"
   ]
  },
  {
   "cell_type": "code",
   "execution_count": 9,
   "id": "6c51de94-4c3c-438f-af70-3d2ecdea6ed9",
   "metadata": {},
   "outputs": [
    {
     "name": "stdout",
     "output_type": "stream",
     "text": [
      "[1 2 3 4 'Sunil' 'Arun']\n"
     ]
    }
   ],
   "source": [
    "arr04 = np.array([1,2,3,4,'Sunil','Arun'], dtype=object)\n",
    "print(arr04)"
   ]
  },
  {
   "cell_type": "code",
   "execution_count": null,
   "id": "e4744d97-b4c5-429f-8eb8-0a4e4a09f702",
   "metadata": {},
   "outputs": [],
   "source": []
  }
 ],
 "metadata": {
  "kernelspec": {
   "display_name": "Python 3 (ipykernel)",
   "language": "python",
   "name": "python3"
  },
  "language_info": {
   "codemirror_mode": {
    "name": "ipython",
    "version": 3
   },
   "file_extension": ".py",
   "mimetype": "text/x-python",
   "name": "python",
   "nbconvert_exporter": "python",
   "pygments_lexer": "ipython3",
   "version": "3.9.13"
  }
 },
 "nbformat": 4,
 "nbformat_minor": 5
}
