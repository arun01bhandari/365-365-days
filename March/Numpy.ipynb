{
 "cells": [
  {
   "cell_type": "code",
   "execution_count": 41,
   "id": "38cb993f-c694-40e8-94fa-c0f0480fa0c8",
   "metadata": {},
   "outputs": [],
   "source": [
    "import numpy as np"
   ]
  },
  {
   "cell_type": "code",
   "execution_count": 42,
   "id": "5d432c4d-55bf-4bf6-9fec-e714dc8ee0fe",
   "metadata": {},
   "outputs": [
    {
     "name": "stdout",
     "output_type": "stream",
     "text": [
      "[1 2 3 4 5]\n"
     ]
    }
   ],
   "source": [
    "arr01 = np.array([1,2,3,4,5])\n",
    "print(arr01)"
   ]
  },
  {
   "cell_type": "code",
   "execution_count": 43,
   "id": "a5d802a9-e278-471c-86c7-6c96c0eef572",
   "metadata": {},
   "outputs": [
    {
     "name": "stdout",
     "output_type": "stream",
     "text": [
      "['1' '2' '3' '4' 'Sunil']\n"
     ]
    }
   ],
   "source": [
    "arr02 = np.array([1,2,3,4,'Sunil'])\n",
    "print(arr02)"
   ]
  },
  {
   "cell_type": "code",
   "execution_count": 44,
   "id": "99ee49a6-5a81-4fa7-a167-53f4c14572eb",
   "metadata": {},
   "outputs": [
    {
     "name": "stdout",
     "output_type": "stream",
     "text": [
      "[1 2 3 4 1 3]\n"
     ]
    }
   ],
   "source": [
    "arr03 = np.array([1,2,3,4,1.0,3.0], dtype=int)\n",
    "print(arr03)"
   ]
  },
  {
   "cell_type": "code",
   "execution_count": 45,
   "id": "6c51de94-4c3c-438f-af70-3d2ecdea6ed9",
   "metadata": {},
   "outputs": [
    {
     "name": "stdout",
     "output_type": "stream",
     "text": [
      "[1 2 3 4 'Sunil' 'Arun']\n"
     ]
    }
   ],
   "source": [
    "arr04 = np.array([1,2,3,4,'Sunil','Arun'], dtype=object)\n",
    "print(arr04)"
   ]
  },
  {
   "cell_type": "code",
   "execution_count": 46,
   "id": "e4744d97-b4c5-429f-8eb8-0a4e4a09f702",
   "metadata": {},
   "outputs": [
    {
     "name": "stdout",
     "output_type": "stream",
     "text": [
      "1st item: 10\n",
      "2nd item: 20\n",
      "3rd item: 30\n",
      "4th item: 40\n"
     ]
    }
   ],
   "source": [
    "a = np.array([10,20,30,40,50])\n",
    "print(f'1st item: {a[0]}')\n",
    "print(f'2nd item: {a[1]}')\n",
    "print(f'3rd item: {a[2]}')\n",
    "print(f'4th item: {a[3]}')"
   ]
  },
  {
   "cell_type": "code",
   "execution_count": 47,
   "id": "fb7e8c06-d2e3-4bbe-8ebe-55fd8287945c",
   "metadata": {},
   "outputs": [
    {
     "name": "stdout",
     "output_type": "stream",
     "text": [
      "11\n",
      "12\n",
      "13\n",
      "14\n",
      "15\n",
      "16\n",
      "17\n",
      "18\n",
      "19\n"
     ]
    }
   ],
   "source": [
    "arr_2d = np.array([\n",
    "    [11,12,13],\n",
    "    [14,15,16],\n",
    "    [17,18,19]\n",
    "])\n",
    "print(f'{arr_2d[0,0]}')\n",
    "print(f'{arr_2d[0,1]}')\n",
    "print(f'{arr_2d[0,2]}')\n",
    "print(f'{arr_2d[1,0]}')\n",
    "print(f'{arr_2d[1,1]}')\n",
    "print(f'{arr_2d[1,2]}')\n",
    "print(f'{arr_2d[2,0]}')\n",
    "print(f'{arr_2d[2,1]}')\n",
    "print(f'{arr_2d[2,2]}')"
   ]
  },
  {
   "cell_type": "code",
   "execution_count": 48,
   "id": "5704c7a9-7282-40cc-9322-8cfed7cfc113",
   "metadata": {},
   "outputs": [
    {
     "name": "stdout",
     "output_type": "stream",
     "text": [
      "[20 30 40 50]\n"
     ]
    }
   ],
   "source": [
    "arr6 = np.array([10,20,30,40,50,60,70])\n",
    "arr6_slice = arr6[1:5]\n",
    "print(arr6_slice)"
   ]
  },
  {
   "cell_type": "code",
   "execution_count": 49,
   "id": "2cd2c619-3025-4c85-8092-5910acb6c3c0",
   "metadata": {},
   "outputs": [
    {
     "data": {
      "text/plain": [
       "array([50, 60, 70])"
      ]
     },
     "execution_count": 49,
     "metadata": {},
     "output_type": "execute_result"
    }
   ],
   "source": [
    "arr6[4:]"
   ]
  },
  {
   "cell_type": "code",
   "execution_count": 50,
   "id": "9889d4de-d2cc-497c-874b-bb81759d9618",
   "metadata": {},
   "outputs": [
    {
     "data": {
      "text/plain": [
       "array([10, 20, 30, 40, 50, 60, 70])"
      ]
     },
     "execution_count": 50,
     "metadata": {},
     "output_type": "execute_result"
    }
   ],
   "source": [
    "arr6[::1]"
   ]
  },
  {
   "cell_type": "code",
   "execution_count": 51,
   "id": "86ff5b54-58a4-4edd-a153-247f13317c8f",
   "metadata": {},
   "outputs": [
    {
     "data": {
      "text/plain": [
       "array([10, 30, 50, 70])"
      ]
     },
     "execution_count": 51,
     "metadata": {},
     "output_type": "execute_result"
    }
   ],
   "source": [
    "arr6[::2]"
   ]
  },
  {
   "cell_type": "code",
   "execution_count": 52,
   "id": "5d9c05bd-74d4-409f-8eab-102b58849b05",
   "metadata": {},
   "outputs": [
    {
     "data": {
      "text/plain": [
       "array([50, 60])"
      ]
     },
     "execution_count": 52,
     "metadata": {},
     "output_type": "execute_result"
    }
   ],
   "source": [
    "arr6[-3:-1]"
   ]
  },
  {
   "cell_type": "code",
   "execution_count": 53,
   "id": "557cb5d9-ae83-47a5-ae9e-11fcd458ad46",
   "metadata": {},
   "outputs": [
    {
     "data": {
      "text/plain": [
       "array([70, 60, 50, 40, 30, 20, 10])"
      ]
     },
     "execution_count": 53,
     "metadata": {},
     "output_type": "execute_result"
    }
   ],
   "source": [
    "arr6[::-1]"
   ]
  },
  {
   "cell_type": "code",
   "execution_count": 54,
   "id": "48e7a197-ee22-437b-a841-1f4dfe193fe2",
   "metadata": {},
   "outputs": [
    {
     "data": {
      "text/plain": [
       "array(['Kathmandu', 'Sishir', 'Ghimire', 'Sunil'], dtype='<U9')"
      ]
     },
     "execution_count": 54,
     "metadata": {},
     "output_type": "execute_result"
    }
   ],
   "source": [
    "arr7 = np.array(['Sunil','Ghimire','Sishir','Kathmandu'])\n",
    "arr7[::-1]"
   ]
  },
  {
   "cell_type": "code",
   "execution_count": 55,
   "id": "b8358fb7-2eca-4af0-902e-2c995220997e",
   "metadata": {},
   "outputs": [
    {
     "data": {
      "text/plain": [
       "array(['Kathmandu', 'Ghimire'], dtype='<U9')"
      ]
     },
     "execution_count": 55,
     "metadata": {},
     "output_type": "execute_result"
    }
   ],
   "source": [
    "arr7[::-2]"
   ]
  },
  {
   "cell_type": "code",
   "execution_count": 56,
   "id": "71899c1b-49a7-482b-9cc7-f7411143a346",
   "metadata": {},
   "outputs": [
    {
     "data": {
      "text/plain": [
       "array(['Sunil', 'Sishir'], dtype='<U9')"
      ]
     },
     "execution_count": 56,
     "metadata": {},
     "output_type": "execute_result"
    }
   ],
   "source": [
    "arr7[::2]"
   ]
  },
  {
   "cell_type": "code",
   "execution_count": 57,
   "id": "e2a45b1c-6d36-4f1f-889b-ab8f58f24f0f",
   "metadata": {},
   "outputs": [],
   "source": [
    "arr7 = np.array([\n",
    "    [11,12,13],\n",
    "    [14,15,16],\n",
    "    [17,18,19]\n",
    "])"
   ]
  },
  {
   "cell_type": "code",
   "execution_count": 58,
   "id": "cba6358f-9670-4544-8a82-aa8cd98b9a52",
   "metadata": {},
   "outputs": [
    {
     "data": {
      "text/plain": [
       "array([15, 16])"
      ]
     },
     "execution_count": 58,
     "metadata": {},
     "output_type": "execute_result"
    }
   ],
   "source": [
    "arr7[1,1:]"
   ]
  },
  {
   "cell_type": "code",
   "execution_count": 59,
   "id": "40c8b77f-64e7-47cb-81ee-b07a63c73230",
   "metadata": {},
   "outputs": [
    {
     "data": {
      "text/plain": [
       "array([18, 19])"
      ]
     },
     "execution_count": 59,
     "metadata": {},
     "output_type": "execute_result"
    }
   ],
   "source": [
    "arr7[2,1:3]"
   ]
  },
  {
   "cell_type": "code",
   "execution_count": 60,
   "id": "1614b0bc-1043-4abc-8705-7cbcb5d45448",
   "metadata": {},
   "outputs": [
    {
     "name": "stdout",
     "output_type": "stream",
     "text": [
      "[10 20 30 40 50 60]\n"
     ]
    }
   ],
   "source": [
    "base_arr = np.array([10,20,30,40,50,60])\n",
    "print(base_arr)"
   ]
  },
  {
   "cell_type": "code",
   "execution_count": 61,
   "id": "15f62cdd-0374-45eb-8c2a-9d934bd9989c",
   "metadata": {},
   "outputs": [
    {
     "data": {
      "text/plain": [
       "array([10, 20, 30, 40, 50, 60])"
      ]
     },
     "execution_count": 61,
     "metadata": {},
     "output_type": "execute_result"
    }
   ],
   "source": [
    "base_arr.copy()"
   ]
  },
  {
   "cell_type": "code",
   "execution_count": 62,
   "id": "f9074908-6d29-4564-8d3d-0b1bfb4a3c92",
   "metadata": {},
   "outputs": [
    {
     "name": "stdout",
     "output_type": "stream",
     "text": [
      "[10 20 30 40 50 60]\n"
     ]
    }
   ],
   "source": [
    "base_copy = base_arr.copy()\n",
    "print(base_copy)"
   ]
  },
  {
   "cell_type": "code",
   "execution_count": 63,
   "id": "7907a661-8290-4a71-af25-91839630b985",
   "metadata": {},
   "outputs": [
    {
     "name": "stdout",
     "output_type": "stream",
     "text": [
      "[10 20 30 40 50 60]\n"
     ]
    }
   ],
   "source": [
    "copy_arr = base_arr\n",
    "print(copy_arr)"
   ]
  },
  {
   "cell_type": "code",
   "execution_count": 64,
   "id": "4c4bb6a9-3d17-41ab-bbfd-b3258b6e404c",
   "metadata": {},
   "outputs": [
    {
     "name": "stdout",
     "output_type": "stream",
     "text": [
      "Do original array and copy array share a memory?'\n",
      "     Ans:True\n"
     ]
    }
   ],
   "source": [
    "print(f'''Do original array and copy array share a memory?'\n",
    "     Ans:{np.shares_memory(base_arr, copy_arr)}''')"
   ]
  }
 ],
 "metadata": {
  "kernelspec": {
   "display_name": "Python 3 (ipykernel)",
   "language": "python",
   "name": "python3"
  },
  "language_info": {
   "codemirror_mode": {
    "name": "ipython",
    "version": 3
   },
   "file_extension": ".py",
   "mimetype": "text/x-python",
   "name": "python",
   "nbconvert_exporter": "python",
   "pygments_lexer": "ipython3",
   "version": "3.9.13"
  }
 },
 "nbformat": 4,
 "nbformat_minor": 5
}
