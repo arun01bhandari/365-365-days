{
 "cells": [
  {
   "cell_type": "code",
   "execution_count": 2,
   "id": "1acccdf9-55f9-418c-8a54-67a0f6439296",
   "metadata": {},
   "outputs": [
    {
     "name": "stdout",
     "output_type": "stream",
     "text": [
      "<__main__.Dogs object at 0x0000012E75C0F430>\n"
     ]
    }
   ],
   "source": [
    "class Dogs(): #declared class\n",
    "    pass\n",
    "\n",
    "if __name__ == \"__main__\":\n",
    "    obj = Dogs()\n",
    "    print(obj)"
   ]
  },
  {
   "cell_type": "code",
   "execution_count": 7,
   "id": "6114446c-fc48-4de4-957d-69a9805d3a42",
   "metadata": {},
   "outputs": [
    {
     "name": "stdout",
     "output_type": "stream",
     "text": [
      "Rodger is a Mammal\n",
      "Tommy is also a Mammal\n",
      "My name is Rodger\n",
      "My name is Tommy\n"
     ]
    }
   ],
   "source": [
    "#Create a class and object with class and instance attributes\n",
    "class Dog():\n",
    "    attr1 = \"Mammal\"  #attributes\n",
    "    \n",
    "    def __init__(self, name,):   #instance attribute or constructor\n",
    "        self.name = name\n",
    "\n",
    "if __name__ == \"__main__\":\n",
    "    Rodger = Dog(\"Rodger\")\n",
    "    Tommy = Dog(\"Tommy\")\n",
    "    \n",
    "    # Accessing class attributes\n",
    "    print(f\"Rodger is a {Rodger.__class__.attr1}\")\n",
    "    print(f\"Tommy is also a {Tommy.__class__.attr1}\")\n",
    " \n",
    "# Accessing instance attributes\n",
    "    print(f\"My name is {Rodger.name}\")\n",
    "    print(f\"My name is {Tommy.name}\")\n",
    "    "
   ]
  },
  {
   "cell_type": "code",
   "execution_count": 8,
   "id": "3678610a-f96c-4503-b2db-c2b20c767c90",
   "metadata": {},
   "outputs": [
    {
     "name": "stdout",
     "output_type": "stream",
     "text": [
      "My name is Rodger\n",
      "My name is Tommy\n"
     ]
    }
   ],
   "source": [
    "class Dog:\n",
    "    attr1 = \"Mammal\"\n",
    "    \n",
    "    def __init__(self, name):\n",
    "        self.name = name\n",
    "        \n",
    "    def speak(self):   #define methods\n",
    "        print(f\"My name is {self.name}\")\n",
    "\n",
    "if __name__ == \"__main__\":\n",
    "    Rodger = Dog(\"Rodger\")\n",
    "    Tommy = Dog(\"Tommy\")\n",
    "    \n",
    "    #Accessing class methods\n",
    "    Rodger.speak()\n",
    "    Tommy.speak()\n"
   ]
  },
  {
   "cell_type": "code",
   "execution_count": 15,
   "id": "78b8b91c-b968-41e8-b695-80d7ae69dd7e",
   "metadata": {},
   "outputs": [
    {
     "name": "stdout",
     "output_type": "stream",
     "text": [
      "Arun\n",
      "12\n",
      "My name is Arun\n",
      "My idnumber is 12\n",
      "My salary is 80000\n"
     ]
    }
   ],
   "source": [
    "class Person(object):\n",
    "    \n",
    "    def __init__(self, name, idnumber):\n",
    "        self.name = name\n",
    "        self.idnumber = idnumber\n",
    "    \n",
    "    def display(self):\n",
    "        print(self.name)\n",
    "        print(self.idnumber)\n",
    "        \n",
    "    def details(self):\n",
    "        print(f\"My name is {self.name}\")\n",
    "        print(f\"My idnumber is {self.idnumber}\")\n",
    "\n",
    "class Employee(Person):\n",
    "    def __init__(self, name, idnumber, salary, post):\n",
    "        self.salary = salary\n",
    "        self.post = post\n",
    "\n",
    "        Person.__init__(self, name, idnumber)\n",
    "\n",
    "    def details(self):\n",
    "        print(f\"My name is {self.name}\")\n",
    "        print(f\"My idnumber is {self.idnumber}\")\n",
    "        print(f\"My salary is {self.salary}\")\n",
    "\n",
    "if __name__ == \"__main__\":\n",
    "    a  = Employee('Arun', 12,80000,'Senior')\n",
    "a.display()\n",
    "a.details()"
   ]
  },
  {
   "cell_type": "code",
   "execution_count": 20,
   "id": "79124abe-09ae-4aa0-ac49-630e51208921",
   "metadata": {},
   "outputs": [
    {
     "name": "stdout",
     "output_type": "stream",
     "text": [
      "mammal\n",
      "I'm a mammal\n",
      "I'm a  dog\n"
     ]
    }
   ],
   "source": [
    "class Dog:\n",
    "    attr1 = \"mammal\"\n",
    "    attr2 = \"dog\"\n",
    "    \n",
    "    def fun(self):\n",
    "        print(f\"I'm a\", self.attr1)\n",
    "        print(f\"I'm a \", self.attr2)\n",
    "\n",
    "\n",
    "if __name__ == \"__main__\":\n",
    "    Rodger = Dog()\n",
    "    print(Rodger.attr1)\n",
    "Rodger.fun()"
   ]
  },
  {
   "cell_type": "code",
   "execution_count": 22,
   "id": "78abf243-78ff-451f-9319-33591d022c56",
   "metadata": {},
   "outputs": [
    {
     "name": "stdout",
     "output_type": "stream",
     "text": [
      "Hello my name is John and I work in Fusemachines.\n"
     ]
    }
   ],
   "source": [
    "class KMC:\n",
    "    def __init__(self, name, company):\n",
    "        self.name = name\n",
    "        self.company = company\n",
    "    def show(self):\n",
    "        print(\"Hello my name is \" +self.name+\" and I work in \"+self.company+\".\")\n",
    "\n",
    "if __name__ == \"__main__\":\n",
    "    obj = KMC(\"John\", \"Fusemachines\")\n",
    "    obj.show()"
   ]
  },
  {
   "cell_type": "code",
   "execution_count": 26,
   "id": "1178f5bc-1154-4196-aee2-72b8f79e84c5",
   "metadata": {},
   "outputs": [
    {
     "name": "stdout",
     "output_type": "stream",
     "text": [
      "Rodger details:\n",
      "Rodger is a  dog\n",
      "Breed:  Pug\n",
      "Color:  brown\n",
      "\n",
      "Buzo details:\n",
      "Buzo is a  dog\n",
      "Breed:  Bulldog\n",
      "Color:  black\n",
      "Accessing class variable using class name\n",
      "dog\n"
     ]
    }
   ],
   "source": [
    "class Dog:\n",
    "    animal = 'dog'\n",
    "    \n",
    "    def __init__(self, breed, color):\n",
    "        self.breed = breed\n",
    "        self.color = color\n",
    "\n",
    "if __name__ == \"__main__\":\n",
    "    Rodger = Dog(\"Pug\", \"brown\")\n",
    "    Buzo = Dog(\"Bulldog\",\"black\")\n",
    "    print('Rodger details:')\n",
    "    print('Rodger is a ', Rodger.animal)\n",
    "    print('Breed: ', Rodger.breed)\n",
    "    print('Color: ', Rodger.color)\n",
    "\n",
    "print('\\nBuzo details:')\n",
    "print('Buzo is a ', Buzo.animal)\n",
    "print('Breed: ', Buzo.breed)\n",
    "print('Color: ', Buzo.color)\n",
    "print(\"Accessing class variable using class name\")\n",
    "print(Dog.animal)"
   ]
  },
  {
   "cell_type": "code",
   "execution_count": 7,
   "id": "725a2ab2-bfc4-445a-ba70-cd7de6b4f14e",
   "metadata": {},
   "outputs": [
    {
     "name": "stdout",
     "output_type": "stream",
     "text": [
      "Hello it's me : Arun\n",
      "And my age is : 20\n"
     ]
    }
   ],
   "source": [
    "class Employee:\n",
    "    def __init__(self, name, age):\n",
    "        self.name = name\n",
    "        self.age = age\n",
    "\n",
    "if __name__ == \"__main__\":\n",
    "    obj = Employee(name=\"Arun\",age=20)\n",
    "    print(\"Hello it's me :\",obj.name)\n",
    "    print(\"And my age is :\", obj.age)\n"
   ]
  },
  {
   "cell_type": "code",
   "execution_count": 10,
   "id": "13a6e727-8f79-49bb-ac3a-3ae8b4243fa1",
   "metadata": {},
   "outputs": [
    {
     "name": "stdout",
     "output_type": "stream",
     "text": [
      "Hey it's me: Arun\n",
      "And my name is: 50\n"
     ]
    }
   ],
   "source": [
    "class Employee:\n",
    "    def __init__(self, name, age):\n",
    "        self.name = name\n",
    "        self.age = age\n",
    "\n",
    "if __name__ ==\"__main__\":\n",
    "    obj = Employee(name=\"Arun\", age=50)\n",
    "    print(f\"Hey it's me: {obj.name}\")\n",
    "    print(f\"And my name is: {obj.age}\")"
   ]
  },
  {
   "cell_type": "code",
   "execution_count": 5,
   "id": "eae1f59d-1a17-4efc-9c0e-4e6d926cb96c",
   "metadata": {},
   "outputs": [
    {
     "name": "stdout",
     "output_type": "stream",
     "text": [
      "Calling protected member of base class: 2\n",
      "Class modified protected member outside class: 3\n",
      "Accessing protected member of obj1:  3\n",
      "Accessing protected member of obj2:  2\n"
     ]
    }
   ],
   "source": [
    "#protected\n",
    "class Base:\n",
    "    def __init__(self):\n",
    "        self._a = 2\n",
    "\n",
    "class Derived(Base):\n",
    "    def __init__(self):\n",
    "        Base.__init__(self)\n",
    "        print(\"Calling protected member of base class:\", self._a)\n",
    "        \n",
    "        self._a = 3\n",
    "        print(\"Class modified protected member outside class:\", self._a)\n",
    "\n",
    "if __name__ == \"__main__\":\n",
    "    obj1 = Derived()\n",
    "    obj2 = Base()\n",
    "    print(\"Accessing protected member of obj1: \", obj1._a)\n",
    "    print(\"Accessing protected member of obj2: \", obj2._a)\n",
    "    "
   ]
  },
  {
   "cell_type": "code",
   "execution_count": 17,
   "id": "9b5e8d30-ac3c-413f-b978-7ad88252a84a",
   "metadata": {},
   "outputs": [
    {
     "name": "stdout",
     "output_type": "stream",
     "text": [
      "Kathmandu Mahanagarpalika\n"
     ]
    }
   ],
   "source": [
    "#private\n",
    "class Base:\n",
    "    def __init__(self):\n",
    "        self.a = \"Kathmandu Mahanagarpalika\"\n",
    "        self.__b = \"Kathmandu KMC\"\n",
    "\n",
    "class Derived(Base):\n",
    "    def __init__(self):\n",
    "        Base.__init__(self)\n",
    "        print(\"Calling private member of base class:\", self.__b)\n",
    "\n",
    "\n",
    "if __name__ == \"__main__\":\n",
    "    obj1 = Base()\n",
    "    print(obj1.a)\n",
    "    \n",
    "    "
   ]
  },
  {
   "cell_type": "code",
   "execution_count": 19,
   "id": "799a09bb-6db7-49c2-bea4-57e7c10fe094",
   "metadata": {},
   "outputs": [
    {
     "name": "stdout",
     "output_type": "stream",
     "text": [
      "Satyam 102\n"
     ]
    }
   ],
   "source": [
    "#parentclass inheritance\n",
    "class Person(object):\n",
    "    def __init__(self, name, id):\n",
    "        self.name = name\n",
    "        self.id = id\n",
    "        \n",
    "    def Display(self):\n",
    "        print(self.name, self.id)\n",
    "\n",
    "\n",
    "if __name__ == \"__main__\":\n",
    "    emp = Person(\"Satyam\", 102)\n",
    "    emp.Display()"
   ]
  },
  {
   "cell_type": "code",
   "execution_count": 21,
   "id": "e56f55ad-6eb6-4577-b535-28885a65f82f",
   "metadata": {},
   "outputs": [
    {
     "name": "stdout",
     "output_type": "stream",
     "text": [
      "Mayank 103\n",
      "Emp class called\n"
     ]
    }
   ],
   "source": [
    "#creating child class\n",
    "class Emp(Person):\n",
    "    def Print(self):\n",
    "        print(\"Emp class called\")\n",
    "if __name__ == \"__main__\":\n",
    "    Emp_details = Emp(\"Mayank\", 103)\n",
    "    Emp_details.Display()\n",
    "    Emp_details.Print()"
   ]
  },
  {
   "cell_type": "code",
   "execution_count": 22,
   "id": "fee61acd-7c04-4011-b02c-47f1fad7b86e",
   "metadata": {},
   "outputs": [],
   "source": [
    "#inheritance in Python\n",
    "class Person(object):\n",
    "    def __init__(self, name):\n",
    "        self.name = name\n",
    "        \n",
    "    def getName(self):\n",
    "        return self.name\n",
    "        \n",
    "    def isEmployee(self):\n",
    "        return False\n",
    "\n",
    "class Employee(Person):\n",
    "    def isEmployee(self):\n",
    "        return True\n",
    "\n",
    "emp = Person(\"FuseMachine\")\n",
    "print(emp.getName(), emp.isEmployee())\n",
    "\n",
    "emp = Employee"
   ]
  },
  {
   "cell_type": "code",
   "execution_count": null,
   "id": "e80856e9-1d2d-4aba-a49e-cf2c983266b2",
   "metadata": {},
   "outputs": [],
   "source": []
  }
 ],
 "metadata": {
  "kernelspec": {
   "display_name": "Python 3 (ipykernel)",
   "language": "python",
   "name": "python3"
  },
  "language_info": {
   "codemirror_mode": {
    "name": "ipython",
    "version": 3
   },
   "file_extension": ".py",
   "mimetype": "text/x-python",
   "name": "python",
   "nbconvert_exporter": "python",
   "pygments_lexer": "ipython3",
   "version": "3.9.13"
  }
 },
 "nbformat": 4,
 "nbformat_minor": 5
}
