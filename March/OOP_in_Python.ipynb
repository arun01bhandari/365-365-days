{
 "cells": [
  {
   "cell_type": "code",
   "execution_count": 1,
   "id": "1acccdf9-55f9-418c-8a54-67a0f6439296",
   "metadata": {},
   "outputs": [],
   "source": [
    "class Dogs(): #declared class\n",
    "    pass\n",
    "\n",
    "if __name__ == \"__main__\":\n",
    "    obj = Dogs()\n",
    "    obj."
   ]
  },
  {
   "cell_type": "code",
   "execution_count": null,
   "id": "6114446c-fc48-4de4-957d-69a9805d3a42",
   "metadata": {},
   "outputs": [],
   "source": []
  }
 ],
 "metadata": {
  "kernelspec": {
   "display_name": "Python 3 (ipykernel)",
   "language": "python",
   "name": "python3"
  },
  "language_info": {
   "codemirror_mode": {
    "name": "ipython",
    "version": 3
   },
   "file_extension": ".py",
   "mimetype": "text/x-python",
   "name": "python",
   "nbconvert_exporter": "python",
   "pygments_lexer": "ipython3",
   "version": "3.9.13"
  }
 },
 "nbformat": 4,
 "nbformat_minor": 5
}
