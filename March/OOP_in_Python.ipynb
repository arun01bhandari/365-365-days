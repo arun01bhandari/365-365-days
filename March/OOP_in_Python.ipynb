{
 "cells": [
  {
   "cell_type": "code",
   "execution_count": 2,
   "id": "1acccdf9-55f9-418c-8a54-67a0f6439296",
   "metadata": {},
   "outputs": [
    {
     "name": "stdout",
     "output_type": "stream",
     "text": [
      "<__main__.Dogs object at 0x0000012E75C0F430>\n"
     ]
    }
   ],
   "source": [
    "class Dogs(): #declared class\n",
    "    pass\n",
    "\n",
    "if __name__ == \"__main__\":\n",
    "    obj = Dogs()\n",
    "    print(obj)"
   ]
  },
  {
   "cell_type": "code",
   "execution_count": 7,
   "id": "6114446c-fc48-4de4-957d-69a9805d3a42",
   "metadata": {},
   "outputs": [
    {
     "name": "stdout",
     "output_type": "stream",
     "text": [
      "Rodger is a Mammal\n",
      "Tommy is also a Mammal\n",
      "My name is Rodger\n",
      "My name is Tommy\n"
     ]
    }
   ],
   "source": [
    "#Create a class and object with class and instance attributes\n",
    "class Dog():\n",
    "    attr1 = \"Mammal\"  #attributes\n",
    "    \n",
    "    def __init__(self, name,):   #instance attribute or constructor\n",
    "        self.name = name\n",
    "\n",
    "if __name__ == \"__main__\":\n",
    "    Rodger = Dog(\"Rodger\")\n",
    "    Tommy = Dog(\"Tommy\")\n",
    "    \n",
    "    # Accessing class attributes\n",
    "    print(f\"Rodger is a {Rodger.__class__.attr1}\")\n",
    "    print(f\"Tommy is also a {Tommy.__class__.attr1}\")\n",
    " \n",
    "# Accessing instance attributes\n",
    "    print(f\"My name is {Rodger.name}\")\n",
    "    print(f\"My name is {Tommy.name}\")\n",
    "    "
   ]
  },
  {
   "cell_type": "code",
   "execution_count": 8,
   "id": "3678610a-f96c-4503-b2db-c2b20c767c90",
   "metadata": {},
   "outputs": [
    {
     "name": "stdout",
     "output_type": "stream",
     "text": [
      "My name is Rodger\n",
      "My name is Tommy\n"
     ]
    }
   ],
   "source": [
    "class Dog:\n",
    "    attr1 = \"Mammal\"\n",
    "    \n",
    "    def __init__(self, name):\n",
    "        self.name = name\n",
    "        \n",
    "    def speak(self):   #define methods\n",
    "        print(f\"My name is {self.name}\")\n",
    "\n",
    "if __name__ == \"__main__\":\n",
    "    Rodger = Dog(\"Rodger\")\n",
    "    Tommy = Dog(\"Tommy\")\n",
    "    \n",
    "    #Accessing class methods\n",
    "    Rodger.speak()\n",
    "    Tommy.speak()\n"
   ]
  },
  {
   "cell_type": "code",
   "execution_count": 15,
   "id": "78b8b91c-b968-41e8-b695-80d7ae69dd7e",
   "metadata": {},
   "outputs": [
    {
     "name": "stdout",
     "output_type": "stream",
     "text": [
      "Arun\n",
      "12\n",
      "My name is Arun\n",
      "My idnumber is 12\n",
      "My salary is 80000\n"
     ]
    }
   ],
   "source": [
    "class Person(object):\n",
    "    \n",
    "    def __init__(self, name, idnumber):\n",
    "        self.name = name\n",
    "        self.idnumber = idnumber\n",
    "    \n",
    "    def display(self):\n",
    "        print(self.name)\n",
    "        print(self.idnumber)\n",
    "        \n",
    "    def details(self):\n",
    "        print(f\"My name is {self.name}\")\n",
    "        print(f\"My idnumber is {self.idnumber}\")\n",
    "\n",
    "class Employee(Person):\n",
    "    def __init__(self, name, idnumber, salary, post):\n",
    "        self.salary = salary\n",
    "        self.post = post\n",
    "\n",
    "        Person.__init__(self, name, idnumber)\n",
    "\n",
    "    def details(self):\n",
    "        print(f\"My name is {self.name}\")\n",
    "        print(f\"My idnumber is {self.idnumber}\")\n",
    "        print(f\"My salary is {self.salary}\")\n",
    "\n",
    "if __name__ == \"__main__\":\n",
    "    a  = Employee('Arun', 12,80000,'Senior')\n",
    "a.display()\n",
    "a.details()"
   ]
  },
  {
   "cell_type": "code",
   "execution_count": 20,
   "id": "79124abe-09ae-4aa0-ac49-630e51208921",
   "metadata": {},
   "outputs": [
    {
     "name": "stdout",
     "output_type": "stream",
     "text": [
      "mammal\n",
      "I'm a mammal\n",
      "I'm a  dog\n"
     ]
    }
   ],
   "source": [
    "class Dog:\n",
    "    attr1 = \"mammal\"\n",
    "    attr2 = \"dog\"\n",
    "    \n",
    "    def fun(self):\n",
    "        print(f\"I'm a\", self.attr1)\n",
    "        print(f\"I'm a \", self.attr2)\n",
    "\n",
    "\n",
    "if __name__ == \"__main__\":\n",
    "    Rodger = Dog()\n",
    "    print(Rodger.attr1)\n",
    "Rodger.fun()"
   ]
  },
  {
   "cell_type": "code",
   "execution_count": null,
   "id": "78abf243-78ff-451f-9319-33591d022c56",
   "metadata": {},
   "outputs": [],
   "source": [
    "class KMC:\n",
    "    def __init__(self, name, company):\n",
    "        self.name = name\n",
    "        self.company = company\n",
    "    def show(self):\n",
    "        print(\"Hello my name is\" +self.name+\" and I work in \")"
   ]
  }
 ],
 "metadata": {
  "kernelspec": {
   "display_name": "Python 3 (ipykernel)",
   "language": "python",
   "name": "python3"
  },
  "language_info": {
   "codemirror_mode": {
    "name": "ipython",
    "version": 3
   },
   "file_extension": ".py",
   "mimetype": "text/x-python",
   "name": "python",
   "nbconvert_exporter": "python",
   "pygments_lexer": "ipython3",
   "version": "3.9.13"
  }
 },
 "nbformat": 4,
 "nbformat_minor": 5
}
