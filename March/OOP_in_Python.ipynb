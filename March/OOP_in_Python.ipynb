{
 "cells": [
  {
   "cell_type": "code",
   "execution_count": 2,
   "id": "1acccdf9-55f9-418c-8a54-67a0f6439296",
   "metadata": {},
   "outputs": [
    {
     "name": "stdout",
     "output_type": "stream",
     "text": [
      "<__main__.Dogs object at 0x0000012E75C0F430>\n"
     ]
    }
   ],
   "source": [
    "class Dogs(): #declared class\n",
    "    pass\n",
    "\n",
    "if __name__ == \"__main__\":\n",
    "    obj = Dogs()\n",
    "    print(obj)"
   ]
  },
  {
   "cell_type": "code",
   "execution_count": 7,
   "id": "6114446c-fc48-4de4-957d-69a9805d3a42",
   "metadata": {},
   "outputs": [
    {
     "name": "stdout",
     "output_type": "stream",
     "text": [
      "Rodger is a Mammal\n",
      "Tommy is also a Mammal\n",
      "My name is Rodger\n",
      "My name is Tommy\n"
     ]
    }
   ],
   "source": [
    "#Create a class and object with class and instance attributes\n",
    "class Dog():\n",
    "    attr1 = \"Mammal\"  #attributes\n",
    "    \n",
    "    def __init__(self, name,):   #instance attribute or constructor\n",
    "        self.name = name\n",
    "\n",
    "if __name__ == \"__main__\":\n",
    "    Rodger = Dog(\"Rodger\")\n",
    "    Tommy = Dog(\"Tommy\")\n",
    "    \n",
    "    # Accessing class attributes\n",
    "    print(f\"Rodger is a {Rodger.__class__.attr1}\")\n",
    "    print(f\"Tommy is also a {Tommy.__class__.attr1}\")\n",
    " \n",
    "# Accessing instance attributes\n",
    "    print(f\"My name is {Rodger.name}\")\n",
    "    print(f\"My name is {Tommy.name}\")\n",
    "    "
   ]
  },
  {
   "cell_type": "code",
   "execution_count": 8,
   "id": "3678610a-f96c-4503-b2db-c2b20c767c90",
   "metadata": {},
   "outputs": [
    {
     "name": "stdout",
     "output_type": "stream",
     "text": [
      "My name is Rodger\n",
      "My name is Tommy\n"
     ]
    }
   ],
   "source": [
    "class Dog:\n",
    "    attr1 = \"Mammal\"\n",
    "    \n",
    "    def __init__(self, name):\n",
    "        self.name = name\n",
    "        \n",
    "    def speak(self):   #define methods\n",
    "        print(f\"My name is {self.name}\")\n",
    "\n",
    "if __name__ == \"__main__\":\n",
    "    Rodger = Dog(\"Rodger\")\n",
    "    Tommy = Dog(\"Tommy\")\n",
    "    \n",
    "    #Accessing class methods\n",
    "    Rodger.speak()\n",
    "    Tommy.speak()\n"
   ]
  },
  {
   "cell_type": "code",
   "execution_count": 15,
   "id": "78b8b91c-b968-41e8-b695-80d7ae69dd7e",
   "metadata": {},
   "outputs": [
    {
     "name": "stdout",
     "output_type": "stream",
     "text": [
      "Arun\n",
      "12\n",
      "My name is Arun\n",
      "My idnumber is 12\n",
      "My salary is 80000\n"
     ]
    }
   ],
   "source": [
    "class Person(object):\n",
    "    \n",
    "    def __init__(self, name, idnumber):\n",
    "        self.name = name\n",
    "        self.idnumber = idnumber\n",
    "    \n",
    "    def display(self):\n",
    "        print(self.name)\n",
    "        print(self.idnumber)\n",
    "        \n",
    "    def details(self):\n",
    "        print(f\"My name is {self.name}\")\n",
    "        print(f\"My idnumber is {self.idnumber}\")\n",
    "\n",
    "class Employee(Person):\n",
    "    def __init__(self, name, idnumber, salary, post):\n",
    "        self.salary = salary\n",
    "        self.post = post\n",
    "\n",
    "        Person.__init__(self, name, idnumber)\n",
    "\n",
    "    def details(self):\n",
    "        print(f\"My name is {self.name}\")\n",
    "        print(f\"My idnumber is {self.idnumber}\")\n",
    "        print(f\"My salary is {self.salary}\")\n",
    "\n",
    "if __name__ == \"__main__\":\n",
    "    a  = Employee('Arun', 12,80000,'Senior')\n",
    "a.display()\n",
    "a.details()"
   ]
  },
  {
   "cell_type": "code",
   "execution_count": 20,
   "id": "79124abe-09ae-4aa0-ac49-630e51208921",
   "metadata": {},
   "outputs": [
    {
     "name": "stdout",
     "output_type": "stream",
     "text": [
      "mammal\n",
      "I'm a mammal\n",
      "I'm a  dog\n"
     ]
    }
   ],
   "source": [
    "class Dog:\n",
    "    attr1 = \"mammal\"\n",
    "    attr2 = \"dog\"\n",
    "    \n",
    "    def fun(self):\n",
    "        print(f\"I'm a\", self.attr1)\n",
    "        print(f\"I'm a \", self.attr2)\n",
    "\n",
    "\n",
    "if __name__ == \"__main__\":\n",
    "    Rodger = Dog()\n",
    "    print(Rodger.attr1)\n",
    "Rodger.fun()"
   ]
  },
  {
   "cell_type": "code",
   "execution_count": 22,
   "id": "78abf243-78ff-451f-9319-33591d022c56",
   "metadata": {},
   "outputs": [
    {
     "name": "stdout",
     "output_type": "stream",
     "text": [
      "Hello my name is John and I work in Fusemachines.\n"
     ]
    }
   ],
   "source": [
    "class KMC:\n",
    "    def __init__(self, name, company):\n",
    "        self.name = name\n",
    "        self.company = company\n",
    "    def show(self):\n",
    "        print(\"Hello my name is \" +self.name+\" and I work in \"+self.company+\".\")\n",
    "\n",
    "if __name__ == \"__main__\":\n",
    "    obj = KMC(\"John\", \"Fusemachines\")\n",
    "    obj.show()"
   ]
  },
  {
   "cell_type": "code",
   "execution_count": 26,
   "id": "1178f5bc-1154-4196-aee2-72b8f79e84c5",
   "metadata": {},
   "outputs": [
    {
     "name": "stdout",
     "output_type": "stream",
     "text": [
      "Rodger details:\n",
      "Rodger is a  dog\n",
      "Breed:  Pug\n",
      "Color:  brown\n",
      "\n",
      "Buzo details:\n",
      "Buzo is a  dog\n",
      "Breed:  Bulldog\n",
      "Color:  black\n",
      "Accessing class variable using class name\n",
      "dog\n"
     ]
    }
   ],
   "source": [
    "class Dog:\n",
    "    animal = 'dog'\n",
    "    \n",
    "    def __init__(self, breed, color):\n",
    "        self.breed = breed\n",
    "        self.color = color\n",
    "\n",
    "if __name__ == \"__main__\":\n",
    "    Rodger = Dog(\"Pug\", \"brown\")\n",
    "    Buzo = Dog(\"Bulldog\",\"black\")\n",
    "    print('Rodger details:')\n",
    "    print('Rodger is a ', Rodger.animal)\n",
    "    print('Breed: ', Rodger.breed)\n",
    "    print('Color: ', Rodger.color)\n",
    "\n",
    "print('\\nBuzo details:')\n",
    "print('Buzo is a ', Buzo.animal)\n",
    "print('Breed: ', Buzo.breed)\n",
    "print('Color: ', Buzo.color)\n",
    "print(\"Accessing class variable using class name\")\n",
    "print(Dog.animal)"
   ]
  },
  {
   "cell_type": "code",
   "execution_count": 7,
   "id": "725a2ab2-bfc4-445a-ba70-cd7de6b4f14e",
   "metadata": {},
   "outputs": [
    {
     "name": "stdout",
     "output_type": "stream",
     "text": [
      "Hello it's me : Arun\n",
      "And my age is : 20\n"
     ]
    }
   ],
   "source": [
    "class Employee:\n",
    "    def __init__(self, name, age):\n",
    "        self.name = name\n",
    "        self.age = age\n",
    "\n",
    "if __name__ == \"__main__\":\n",
    "    obj = Employee(name=\"Arun\",age=20)\n",
    "    print(\"Hello it's me :\",obj.name)\n",
    "    print(\"And my age is :\", obj.age)\n"
   ]
  },
  {
   "cell_type": "code",
   "execution_count": 10,
   "id": "13a6e727-8f79-49bb-ac3a-3ae8b4243fa1",
   "metadata": {},
   "outputs": [
    {
     "name": "stdout",
     "output_type": "stream",
     "text": [
      "Hey it's me: Arun\n",
      "And my name is: 50\n"
     ]
    }
   ],
   "source": [
    "class Employee:\n",
    "    def __init__(self, name, age):\n",
    "        self.name = name\n",
    "        self.age = age\n",
    "\n",
    "if __name__ ==\"__main__\":\n",
    "    obj = Employee(name=\"Arun\", age=50)\n",
    "    print(f\"Hey it's me: {obj.name}\")\n",
    "    print(f\"And my name is: {obj.age}\")"
   ]
  },
  {
   "cell_type": "code",
   "execution_count": 5,
   "id": "eae1f59d-1a17-4efc-9c0e-4e6d926cb96c",
   "metadata": {},
   "outputs": [
    {
     "name": "stdout",
     "output_type": "stream",
     "text": [
      "Calling protected member of base class: 2\n",
      "Class modified protected member outside class: 3\n",
      "Accessing protected member of obj1:  3\n",
      "Accessing protected member of obj2:  2\n"
     ]
    }
   ],
   "source": [
    "#protected\n",
    "class Base:\n",
    "    def __init__(self):\n",
    "        self._a = 2\n",
    "\n",
    "class Derived(Base):\n",
    "    def __init__(self):\n",
    "        Base.__init__(self)\n",
    "        print(\"Calling protected member of base class:\", self._a)\n",
    "        \n",
    "        self._a = 3\n",
    "        print(\"Class modified protected member outside class:\", self._a)\n",
    "\n",
    "if __name__ == \"__main__\":\n",
    "    obj1 = Derived()\n",
    "    obj2 = Base()\n",
    "    print(\"Accessing protected member of obj1: \", obj1._a)\n",
    "    print(\"Accessing protected member of obj2: \", obj2._a)\n",
    "    "
   ]
  },
  {
   "cell_type": "code",
   "execution_count": 17,
   "id": "9b5e8d30-ac3c-413f-b978-7ad88252a84a",
   "metadata": {},
   "outputs": [
    {
     "name": "stdout",
     "output_type": "stream",
     "text": [
      "Kathmandu Mahanagarpalika\n"
     ]
    }
   ],
   "source": [
    "#private\n",
    "class Base:\n",
    "    def __init__(self):\n",
    "        self.a = \"Kathmandu Mahanagarpalika\"\n",
    "        self.__b = \"Kathmandu KMC\"\n",
    "\n",
    "class Derived(Base):\n",
    "    def __init__(self):\n",
    "        Base.__init__(self)\n",
    "        print(\"Calling private member of base class:\", self.__b)\n",
    "\n",
    "\n",
    "if __name__ == \"__main__\":\n",
    "    obj1 = Base()\n",
    "    print(obj1.a)\n",
    "    \n",
    "    "
   ]
  },
  {
   "cell_type": "code",
   "execution_count": 19,
   "id": "799a09bb-6db7-49c2-bea4-57e7c10fe094",
   "metadata": {},
   "outputs": [
    {
     "name": "stdout",
     "output_type": "stream",
     "text": [
      "Satyam 102\n"
     ]
    }
   ],
   "source": [
    "#parentclass inheritance\n",
    "class Person(object):\n",
    "    def __init__(self, name, id):\n",
    "        self.name = name\n",
    "        self.id = id\n",
    "        \n",
    "    def Display(self):\n",
    "        print(self.name, self.id)\n",
    "\n",
    "\n",
    "if __name__ == \"__main__\":\n",
    "    emp = Person(\"Satyam\", 102)\n",
    "    emp.Display()"
   ]
  },
  {
   "cell_type": "code",
   "execution_count": 21,
   "id": "e56f55ad-6eb6-4577-b535-28885a65f82f",
   "metadata": {},
   "outputs": [
    {
     "name": "stdout",
     "output_type": "stream",
     "text": [
      "Mayank 103\n",
      "Emp class called\n"
     ]
    }
   ],
   "source": [
    "#creating child class\n",
    "class Emp(Person):\n",
    "    def Print(self):\n",
    "        print(\"Emp class called\")\n",
    "if __name__ == \"__main__\":\n",
    "    Emp_details = Emp(\"Mayank\", 103)\n",
    "    Emp_details.Display()\n",
    "    Emp_details.Print()"
   ]
  },
  {
   "cell_type": "code",
   "execution_count": 23,
   "id": "fee61acd-7c04-4011-b02c-47f1fad7b86e",
   "metadata": {},
   "outputs": [
    {
     "name": "stdout",
     "output_type": "stream",
     "text": [
      "FuseMachine False\n",
      "Sishir Ghimire True\n"
     ]
    }
   ],
   "source": [
    "#inheritance in Python\n",
    "class Person(object):\n",
    "    def __init__(self, name):\n",
    "        self.name = name\n",
    "        \n",
    "    def getName(self):\n",
    "        return self.name\n",
    "        \n",
    "    def isEmployee(self):\n",
    "        return False\n",
    "\n",
    "class Employee(Person):\n",
    "    def isEmployee(self):\n",
    "        return True\n",
    "\n",
    "emp = Person(\"FuseMachine\")\n",
    "print(emp.getName(), emp.isEmployee())\n",
    "\n",
    "emp = Employee(\"Sishir Ghimire\")\n",
    "print(emp.getName(), emp.isEmployee())"
   ]
  },
  {
   "cell_type": "code",
   "execution_count": 27,
   "id": "e80856e9-1d2d-4aba-a49e-cf2c983266b2",
   "metadata": {},
   "outputs": [
    {
     "name": "stdout",
     "output_type": "stream",
     "text": [
      "Sishir\n",
      "1\n"
     ]
    }
   ],
   "source": [
    "#calling constructor of parent class\n",
    "\n",
    "class Person(object):\n",
    "    def __init__(self, name, idnumber):\n",
    "        self.name = name\n",
    "        self.idnumber = idnumber\n",
    "\n",
    "    def display(self):\n",
    "        print(self.name)\n",
    "        print(self.idnumber)\n",
    "\n",
    "class Employee(Person):\n",
    "    def __init__(self, name, idnumber, salary, post):\n",
    "        self.salary = salary\n",
    "        self.post = post\n",
    "        \n",
    "        Person.__init__(self, name, idnumber)\n",
    "\n",
    "if __name__ == \"__main__\":\n",
    "    a = Employee('Sishir', 1, 200000, 'Junior')\n",
    "    a.display()"
   ]
  },
  {
   "cell_type": "code",
   "execution_count": 1,
   "id": "05455164-c518-43a8-937a-d099d462b738",
   "metadata": {},
   "outputs": [],
   "source": [
    "class Vehicle:\n",
    "    pass"
   ]
  },
  {
   "cell_type": "code",
   "execution_count": 2,
   "id": "20c4fedd-c045-401b-b747-3b2bf0eafb50",
   "metadata": {},
   "outputs": [],
   "source": [
    "car = Vehicle()"
   ]
  },
  {
   "cell_type": "code",
   "execution_count": 3,
   "id": "c6e296a4-0e91-444a-ac82-7d103e9d3339",
   "metadata": {},
   "outputs": [
    {
     "name": "stdout",
     "output_type": "stream",
     "text": [
      "<class '__main__.Vehicle'>\n"
     ]
    }
   ],
   "source": [
    "print(type(car))"
   ]
  },
  {
   "cell_type": "code",
   "execution_count": 4,
   "id": "6688947a-a368-4e96-ac53-007d5e192f7c",
   "metadata": {},
   "outputs": [
    {
     "name": "stdout",
     "output_type": "stream",
     "text": [
      "False\n",
      "False\n",
      "True\n",
      "True\n"
     ]
    }
   ],
   "source": [
    "class Vehicle:\n",
    "    is_electric = False\n",
    "\n",
    "obj = Vehicle()\n",
    "print(Vehicle.is_electric)\n",
    "\n",
    "print(obj.is_electric)\n",
    "\n",
    "Vehicle.is_electric = True\n",
    "\n",
    "print(Vehicle.is_electric)\n",
    "print(obj.is_electric)"
   ]
  },
  {
   "cell_type": "code",
   "execution_count": 13,
   "id": "9b4d27c9-f93e-489b-991c-23aed67832fd",
   "metadata": {},
   "outputs": [],
   "source": [
    "class Vehicle:\n",
    "    is_electric = False"
   ]
  },
  {
   "cell_type": "code",
   "execution_count": 14,
   "id": "c13988d0-d55c-4345-98b4-faee983db410",
   "metadata": {},
   "outputs": [],
   "source": [
    "obj = Vehicle()"
   ]
  },
  {
   "cell_type": "code",
   "execution_count": 15,
   "id": "57fccc7c-e147-44c4-8fbe-e3a72ce4e698",
   "metadata": {},
   "outputs": [
    {
     "name": "stdout",
     "output_type": "stream",
     "text": [
      "False\n"
     ]
    }
   ],
   "source": [
    "print(Vehicle.is_electric)"
   ]
  },
  {
   "cell_type": "code",
   "execution_count": 16,
   "id": "da929554-94dc-4fad-ad69-ad8c694ba9bb",
   "metadata": {},
   "outputs": [
    {
     "name": "stdout",
     "output_type": "stream",
     "text": [
      "True\n"
     ]
    }
   ],
   "source": [
    "Vehicle.is_electric = True\n",
    "print(Vehicle.is_electric)"
   ]
  },
  {
   "cell_type": "code",
   "execution_count": 19,
   "id": "0a2651b6-b7cf-4a3a-9adb-ec76891fcea7",
   "metadata": {},
   "outputs": [
    {
     "name": "stdout",
     "output_type": "stream",
     "text": [
      "car type\n"
     ]
    }
   ],
   "source": [
    "class Vehicle:\n",
    "    '''\n",
    "    -The code defines a class called Vehicle.\n",
    "    -The class has a constructor method __init__ that takes two parameters.\n",
    "    -self(representing the instance being created) and attribute(a value passed to initialize the instance_attribute)\n",
    "    '''\n",
    "    def __init__(self, attribute):\n",
    "        '''The init constructor assigns the value of the attribute parameter to the instance attribute name 'instance_attribute'.\n",
    "        '''\n",
    "        self.instance_attribute = attribute\n",
    "\n",
    "#instantiate object\n",
    "car = Vehicle('car type')\n",
    "\n",
    "#access instance attributes\n",
    "print(car.instance_attribute)"
   ]
  },
  {
   "cell_type": "code",
   "execution_count": 20,
   "id": "c7012b41-b57d-426b-a031-3d98c3b2293d",
   "metadata": {},
   "outputs": [],
   "source": [
    "class VehicleTest:\n",
    "    def __init__(self, car_type):\n",
    "        self.car_type = car_type"
   ]
  },
  {
   "cell_type": "code",
   "execution_count": 21,
   "id": "46e409c9-07b2-465f-8bd2-82bb1b7e40fd",
   "metadata": {},
   "outputs": [
    {
     "ename": "AttributeError",
     "evalue": "'Vehicle' object has no attribute 'car_type'",
     "output_type": "error",
     "traceback": [
      "\u001b[1;31m---------------------------------------------------------------------------\u001b[0m",
      "\u001b[1;31mAttributeError\u001b[0m                            Traceback (most recent call last)",
      "Cell \u001b[1;32mIn[21], line 2\u001b[0m\n\u001b[0;32m      1\u001b[0m car_ \u001b[38;5;241m=\u001b[39m VehicleTest(\u001b[38;5;124m\"\u001b[39m\u001b[38;5;124mcar_type\u001b[39m\u001b[38;5;124m\"\u001b[39m)\n\u001b[1;32m----> 2\u001b[0m \u001b[43mcar\u001b[49m\u001b[38;5;241;43m.\u001b[39;49m\u001b[43mcar_type\u001b[49m\n",
      "\u001b[1;31mAttributeError\u001b[0m: 'Vehicle' object has no attribute 'car_type'"
     ]
    }
   ],
   "source": [
    "car_ = VehicleTest(\"car_type\")\n",
    "car.car_type"
   ]
  },
  {
   "cell_type": "code",
   "execution_count": 22,
   "id": "95b84eb8-4cc6-46f0-b6c2-cf65117f0e6a",
   "metadata": {},
   "outputs": [
    {
     "data": {
      "text/plain": [
       "'test'"
      ]
     },
     "execution_count": 22,
     "metadata": {},
     "output_type": "execute_result"
    }
   ],
   "source": [
    "class Vehicle:\n",
    "    '''\n",
    "    - The code defines a class called Vehicle.\n",
    "    - The class ha a constructor method __init__ that takes two parameters.\n",
    "    - self(representing the instance being created) and attribute(a value passed to initialize the instance_attribute).\n",
    "    '''\n",
    "    def __init__(self, attribute):\n",
    "        '''\n",
    "        The init constructor assigns the value of the attributes parameter to the instance attribute name 'instance_attribute'.\n",
    "        '''\n",
    "        self.instance_attribute = attribute\n",
    "\n",
    "car = Vehicle('test')\n",
    "car.instance_attribute"
   ]
  },
  {
   "cell_type": "code",
   "execution_count": 23,
   "id": "3ddaab20-3e1d-47bd-b9eb-198855e917a6",
   "metadata": {},
   "outputs": [],
   "source": [
    "class Vehicle:\n",
    "    def __init__(self, colour):\n",
    "        self.colour = colour\n",
    "\n",
    "    def display_color(self):\n",
    "        print(f\"Car colour is: {self.colour}\")"
   ]
  },
  {
   "cell_type": "code",
   "execution_count": 25,
   "id": "d9968bfc-a2d8-4fc8-bb2e-bd7643363924",
   "metadata": {},
   "outputs": [
    {
     "name": "stdout",
     "output_type": "stream",
     "text": [
      "Car colour is: red\n"
     ]
    }
   ],
   "source": [
    "car1 = Vehicle('red')\n",
    "car1.display_color()"
   ]
  },
  {
   "cell_type": "code",
   "execution_count": 26,
   "id": "592a5cd9-af67-4965-af3d-7f0856022085",
   "metadata": {},
   "outputs": [
    {
     "name": "stdout",
     "output_type": "stream",
     "text": [
      "Car colour is: black\n"
     ]
    }
   ],
   "source": [
    "bike = Vehicle('black')\n",
    "bike.display_color()"
   ]
  },
  {
   "cell_type": "code",
   "execution_count": 2,
   "id": "9e2c055f-7d28-45a6-85ec-030d55ac7423",
   "metadata": {},
   "outputs": [
    {
     "name": "stdout",
     "output_type": "stream",
     "text": [
      "Ihe number is 5\n",
      "5\n"
     ]
    }
   ],
   "source": [
    "class School:\n",
    "    x = 5\n",
    "    print(f\"Ihe number is {x}\")\n",
    "    def MyClass(self):\n",
    "        y.self = y\n",
    "if __name__ == \"__main__\":\n",
    "    a = School()\n",
    "    print(a.x)"
   ]
  },
  {
   "cell_type": "code",
   "execution_count": null,
   "id": "481829ff-174e-4537-b579-c895c2b237e1",
   "metadata": {},
   "outputs": [],
   "source": []
  }
 ],
 "metadata": {
  "kernelspec": {
   "display_name": "Python 3 (ipykernel)",
   "language": "python",
   "name": "python3"
  },
  "language_info": {
   "codemirror_mode": {
    "name": "ipython",
    "version": 3
   },
   "file_extension": ".py",
   "mimetype": "text/x-python",
   "name": "python",
   "nbconvert_exporter": "python",
   "pygments_lexer": "ipython3",
   "version": "3.9.13"
  }
 },
 "nbformat": 4,
 "nbformat_minor": 5
}
