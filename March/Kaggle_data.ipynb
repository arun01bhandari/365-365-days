{
 "cells": [
  {
   "cell_type": "code",
   "execution_count": 1,
   "id": "87177d24-8faa-46fb-81cb-6c6143d88279",
   "metadata": {},
   "outputs": [],
   "source": [
    "import pandas as pd\n",
    "import matplotlib.pyplot as plt\n",
    "import seaborn as sns\n",
    "import numpy as np"
   ]
  },
  {
   "cell_type": "code",
   "execution_count": 2,
   "id": "7981cff3-2ffa-41ed-a9ec-8dd579c436b7",
   "metadata": {},
   "outputs": [],
   "source": [
    "import statistics as st"
   ]
  },
  {
   "cell_type": "code",
   "execution_count": 3,
   "id": "97df61a1-8112-4e6a-b9ac-71c297a5d0c2",
   "metadata": {},
   "outputs": [
    {
     "data": {
      "text/html": [
       "<div>\n",
       "<style scoped>\n",
       "    .dataframe tbody tr th:only-of-type {\n",
       "        vertical-align: middle;\n",
       "    }\n",
       "\n",
       "    .dataframe tbody tr th {\n",
       "        vertical-align: top;\n",
       "    }\n",
       "\n",
       "    .dataframe thead th {\n",
       "        text-align: right;\n",
       "    }\n",
       "</style>\n",
       "<table border=\"1\" class=\"dataframe\">\n",
       "  <thead>\n",
       "    <tr style=\"text-align: right;\">\n",
       "      <th></th>\n",
       "      <th>id</th>\n",
       "      <th>work_year</th>\n",
       "      <th>experience_level</th>\n",
       "      <th>employment_type</th>\n",
       "      <th>job_title</th>\n",
       "      <th>salary</th>\n",
       "      <th>salary_currency</th>\n",
       "      <th>salary_in_usd</th>\n",
       "      <th>employee_residence</th>\n",
       "      <th>remote_ratio</th>\n",
       "      <th>company_location</th>\n",
       "      <th>company_size</th>\n",
       "    </tr>\n",
       "  </thead>\n",
       "  <tbody>\n",
       "    <tr>\n",
       "      <th>0</th>\n",
       "      <td>0</td>\n",
       "      <td>2020</td>\n",
       "      <td>MI</td>\n",
       "      <td>FT</td>\n",
       "      <td>Data Scientist</td>\n",
       "      <td>70000</td>\n",
       "      <td>EUR</td>\n",
       "      <td>79833</td>\n",
       "      <td>DE</td>\n",
       "      <td>0</td>\n",
       "      <td>DE</td>\n",
       "      <td>L</td>\n",
       "    </tr>\n",
       "    <tr>\n",
       "      <th>1</th>\n",
       "      <td>1</td>\n",
       "      <td>2020</td>\n",
       "      <td>SE</td>\n",
       "      <td>FT</td>\n",
       "      <td>Machine Learning Scientist</td>\n",
       "      <td>260000</td>\n",
       "      <td>USD</td>\n",
       "      <td>260000</td>\n",
       "      <td>JP</td>\n",
       "      <td>0</td>\n",
       "      <td>JP</td>\n",
       "      <td>S</td>\n",
       "    </tr>\n",
       "    <tr>\n",
       "      <th>2</th>\n",
       "      <td>2</td>\n",
       "      <td>2020</td>\n",
       "      <td>SE</td>\n",
       "      <td>FT</td>\n",
       "      <td>Big Data Engineer</td>\n",
       "      <td>85000</td>\n",
       "      <td>GBP</td>\n",
       "      <td>109024</td>\n",
       "      <td>GB</td>\n",
       "      <td>50</td>\n",
       "      <td>GB</td>\n",
       "      <td>M</td>\n",
       "    </tr>\n",
       "    <tr>\n",
       "      <th>3</th>\n",
       "      <td>3</td>\n",
       "      <td>2020</td>\n",
       "      <td>MI</td>\n",
       "      <td>FT</td>\n",
       "      <td>Product Data Analyst</td>\n",
       "      <td>20000</td>\n",
       "      <td>USD</td>\n",
       "      <td>20000</td>\n",
       "      <td>HN</td>\n",
       "      <td>0</td>\n",
       "      <td>HN</td>\n",
       "      <td>S</td>\n",
       "    </tr>\n",
       "    <tr>\n",
       "      <th>4</th>\n",
       "      <td>4</td>\n",
       "      <td>2020</td>\n",
       "      <td>SE</td>\n",
       "      <td>FT</td>\n",
       "      <td>Machine Learning Engineer</td>\n",
       "      <td>150000</td>\n",
       "      <td>USD</td>\n",
       "      <td>150000</td>\n",
       "      <td>US</td>\n",
       "      <td>50</td>\n",
       "      <td>US</td>\n",
       "      <td>L</td>\n",
       "    </tr>\n",
       "  </tbody>\n",
       "</table>\n",
       "</div>"
      ],
      "text/plain": [
       "   id  work_year experience_level employment_type                   job_title  \\\n",
       "0   0       2020               MI              FT              Data Scientist   \n",
       "1   1       2020               SE              FT  Machine Learning Scientist   \n",
       "2   2       2020               SE              FT           Big Data Engineer   \n",
       "3   3       2020               MI              FT        Product Data Analyst   \n",
       "4   4       2020               SE              FT   Machine Learning Engineer   \n",
       "\n",
       "   salary salary_currency  salary_in_usd employee_residence  remote_ratio  \\\n",
       "0   70000             EUR          79833                 DE             0   \n",
       "1  260000             USD         260000                 JP             0   \n",
       "2   85000             GBP         109024                 GB            50   \n",
       "3   20000             USD          20000                 HN             0   \n",
       "4  150000             USD         150000                 US            50   \n",
       "\n",
       "  company_location company_size  \n",
       "0               DE            L  \n",
       "1               JP            S  \n",
       "2               GB            M  \n",
       "3               HN            S  \n",
       "4               US            L  "
      ]
     },
     "execution_count": 3,
     "metadata": {},
     "output_type": "execute_result"
    }
   ],
   "source": [
    "dataset = pd.read_csv('ds_salaries.csv')\n",
    "dataset.head()\n",
    "# print(dataset)"
   ]
  },
  {
   "cell_type": "code",
   "execution_count": 6,
   "id": "5079dab0-23a6-4be0-9fb2-d6b67add52aa",
   "metadata": {},
   "outputs": [
    {
     "data": {
      "text/html": [
       "<div>\n",
       "<style scoped>\n",
       "    .dataframe tbody tr th:only-of-type {\n",
       "        vertical-align: middle;\n",
       "    }\n",
       "\n",
       "    .dataframe tbody tr th {\n",
       "        vertical-align: top;\n",
       "    }\n",
       "\n",
       "    .dataframe thead th {\n",
       "        text-align: right;\n",
       "    }\n",
       "</style>\n",
       "<table border=\"1\" class=\"dataframe\">\n",
       "  <thead>\n",
       "    <tr style=\"text-align: right;\">\n",
       "      <th></th>\n",
       "      <th>id</th>\n",
       "      <th>work_year</th>\n",
       "      <th>experience_level</th>\n",
       "      <th>employment_type</th>\n",
       "      <th>job_title</th>\n",
       "      <th>salary</th>\n",
       "      <th>salary_currency</th>\n",
       "      <th>salary_in_usd</th>\n",
       "      <th>employee_residence</th>\n",
       "      <th>remote_ratio</th>\n",
       "      <th>company_location</th>\n",
       "      <th>company_size</th>\n",
       "    </tr>\n",
       "  </thead>\n",
       "  <tbody>\n",
       "    <tr>\n",
       "      <th>183</th>\n",
       "      <td>183</td>\n",
       "      <td>2021</td>\n",
       "      <td>SE</td>\n",
       "      <td>FT</td>\n",
       "      <td>Finance Data Analyst</td>\n",
       "      <td>45000</td>\n",
       "      <td>GBP</td>\n",
       "      <td>61896</td>\n",
       "      <td>GB</td>\n",
       "      <td>50</td>\n",
       "      <td>GB</td>\n",
       "      <td>L</td>\n",
       "    </tr>\n",
       "    <tr>\n",
       "      <th>240</th>\n",
       "      <td>240</td>\n",
       "      <td>2021</td>\n",
       "      <td>SE</td>\n",
       "      <td>FT</td>\n",
       "      <td>Data Scientist</td>\n",
       "      <td>130000</td>\n",
       "      <td>CAD</td>\n",
       "      <td>103691</td>\n",
       "      <td>CA</td>\n",
       "      <td>100</td>\n",
       "      <td>CA</td>\n",
       "      <td>L</td>\n",
       "    </tr>\n",
       "    <tr>\n",
       "      <th>465</th>\n",
       "      <td>465</td>\n",
       "      <td>2022</td>\n",
       "      <td>EN</td>\n",
       "      <td>FT</td>\n",
       "      <td>Data Engineer</td>\n",
       "      <td>120000</td>\n",
       "      <td>USD</td>\n",
       "      <td>120000</td>\n",
       "      <td>US</td>\n",
       "      <td>100</td>\n",
       "      <td>US</td>\n",
       "      <td>M</td>\n",
       "    </tr>\n",
       "    <tr>\n",
       "      <th>325</th>\n",
       "      <td>325</td>\n",
       "      <td>2022</td>\n",
       "      <td>SE</td>\n",
       "      <td>FT</td>\n",
       "      <td>Data Analyst</td>\n",
       "      <td>124190</td>\n",
       "      <td>USD</td>\n",
       "      <td>124190</td>\n",
       "      <td>US</td>\n",
       "      <td>100</td>\n",
       "      <td>US</td>\n",
       "      <td>M</td>\n",
       "    </tr>\n",
       "    <tr>\n",
       "      <th>171</th>\n",
       "      <td>171</td>\n",
       "      <td>2021</td>\n",
       "      <td>MI</td>\n",
       "      <td>FT</td>\n",
       "      <td>Data Engineer</td>\n",
       "      <td>60000</td>\n",
       "      <td>GBP</td>\n",
       "      <td>82528</td>\n",
       "      <td>GB</td>\n",
       "      <td>100</td>\n",
       "      <td>GB</td>\n",
       "      <td>L</td>\n",
       "    </tr>\n",
       "  </tbody>\n",
       "</table>\n",
       "</div>"
      ],
      "text/plain": [
       "      id  work_year experience_level employment_type             job_title  \\\n",
       "183  183       2021               SE              FT  Finance Data Analyst   \n",
       "240  240       2021               SE              FT        Data Scientist   \n",
       "465  465       2022               EN              FT         Data Engineer   \n",
       "325  325       2022               SE              FT          Data Analyst   \n",
       "171  171       2021               MI              FT         Data Engineer   \n",
       "\n",
       "     salary salary_currency  salary_in_usd employee_residence  remote_ratio  \\\n",
       "183   45000             GBP          61896                 GB            50   \n",
       "240  130000             CAD         103691                 CA           100   \n",
       "465  120000             USD         120000                 US           100   \n",
       "325  124190             USD         124190                 US           100   \n",
       "171   60000             GBP          82528                 GB           100   \n",
       "\n",
       "    company_location company_size  \n",
       "183               GB            L  \n",
       "240               CA            L  \n",
       "465               US            M  \n",
       "325               US            M  \n",
       "171               GB            L  "
      ]
     },
     "execution_count": 6,
     "metadata": {},
     "output_type": "execute_result"
    }
   ],
   "source": [
    "x=dataset.sample(30)\n",
    "x.head()\n",
    "# print(x)"
   ]
  },
  {
   "cell_type": "code",
   "execution_count": 7,
   "id": "971e731f-66bc-4ca0-bb17-16307bea7fc3",
   "metadata": {},
   "outputs": [
    {
     "data": {
      "text/plain": [
       "(30, 12)"
      ]
     },
     "execution_count": 7,
     "metadata": {},
     "output_type": "execute_result"
    }
   ],
   "source": [
    "x.shape"
   ]
  },
  {
   "cell_type": "code",
   "execution_count": 8,
   "id": "2625aef5-8810-4c6f-93c4-76e4d71ea0a2",
   "metadata": {},
   "outputs": [
    {
     "data": {
      "text/plain": [
       "<bound method NDFrame.head of 183     61896\n",
       "240    103691\n",
       "465    120000\n",
       "325    124190\n",
       "171     82528\n",
       "398    215300\n",
       "341     93700\n",
       "103     62000\n",
       "202     37825\n",
       "111    113476\n",
       "0       79833\n",
       "527    135000\n",
       "540    115934\n",
       "589     60000\n",
       "266     93150\n",
       "461    100000\n",
       "437     87932\n",
       "472    220000\n",
       "138    220000\n",
       "116     50000\n",
       "488    100000\n",
       "435     91614\n",
       "125    151000\n",
       "128     20000\n",
       "144    100000\n",
       "444    215300\n",
       "80      79197\n",
       "188     76833\n",
       "63     412000\n",
       "55     148261\n",
       "Name: salary_in_usd, dtype: int64>"
      ]
     },
     "execution_count": 8,
     "metadata": {},
     "output_type": "execute_result"
    }
   ],
   "source": [
    "datas = x['salary_in_usd']\n",
    "datas.head"
   ]
  },
  {
   "cell_type": "code",
   "execution_count": 9,
   "id": "b095bd3b-abac-4edd-be4a-93ec3f625d1e",
   "metadata": {},
   "outputs": [
    {
     "data": {
      "image/png": "[encoded data removed]",
      "text/plain": [
       "<Figure size 640x480 with 1 Axes>"
      ]
     },
     "metadata": {},
     "output_type": "display_data"
    }
   ],
   "source": [
    "sns.histplot(datas, kde=True)\n",
    "plt.show()"
   ]
  },
  {
   "cell_type": "code",
   "execution_count": 10,
   "id": "856375dc-716e-47ff-b49c-0fbbf2014a75",
   "metadata": {},
   "outputs": [
    {
     "data": {
      "text/plain": [
       "<AxesSubplot:ylabel='salary_in_usd'>"
      ]
     },
     "execution_count": 10,
     "metadata": {},
     "output_type": "execute_result"
    },
    {
     "data": {
      "image/png": "[encoded data removed]",
      "text/plain": [
       "<Figure size 640x480 with 1 Axes>"
      ]
     },
     "metadata": {},
     "output_type": "display_data"
    }
   ],
   "source": [
    "sns.boxplot(x['salary_in_usd'])"
   ]
  },
  {
   "cell_type": "code",
   "execution_count": 12,
   "id": "d7911257-2fab-4b90-affd-533fec60df20",
   "metadata": {},
   "outputs": [
    {
     "name": "stdout",
     "output_type": "stream",
     "text": [
      "119022.0\n"
     ]
    }
   ],
   "source": [
    "mean = np.mean(x['salary_in_usd'])\n",
    "print(mean)"
   ]
  },
  {
   "cell_type": "code",
   "execution_count": 13,
   "id": "70a959a5-d66f-4828-bc3d-39c7ff0e9557",
   "metadata": {},
   "outputs": [
    {
     "name": "stdout",
     "output_type": "stream",
     "text": [
      "74991.5899831441\n"
     ]
    }
   ],
   "source": [
    "std = np.std(x['salary_in_usd'])\n",
    "print(std)"
   ]
  },
  {
   "cell_type": "code",
   "execution_count": 14,
   "id": "c3a0b472-ae35-4eb9-a879-a614b2a014f7",
   "metadata": {},
   "outputs": [
    {
     "name": "stdout",
     "output_type": "stream",
     "text": [
      "100000\n"
     ]
    }
   ],
   "source": [
    "mode = st.mode(x['salary_in_usd'])\n",
    "print(mode)"
   ]
  },
  {
   "cell_type": "code",
   "execution_count": 15,
   "id": "dd8905a6-65b9-4267-9c22-0539c501c976",
   "metadata": {},
   "outputs": [],
   "source": [
    "# Detect outliers\n",
    "THRESHOLD = 3\n",
    "\n",
    "\n",
    "def detect_outliers(data):\n",
    "  outliers = []\n",
    "\n",
    "  # get mean\n",
    "  mean = np.mean(data)\n",
    "\n",
    "  # get standard deviation\n",
    "  std = np.std(data)\n",
    "\n",
    "  # Apply Z score for each and every point in the datasets.\n",
    "  for i in data:\n",
    "    z_score = (i - mean) / std\n",
    "\n",
    "    # check for outliers\n",
    "    # append to outlier list in the case of outlier\n",
    "    if np.abs(z_score) > THRESHOLD:\n",
    "      outliers.append(i)\n",
    "  return outliers"
   ]
  },
  {
   "cell_type": "code",
   "execution_count": 16,
   "id": "078a9e3b-9993-4b60-afb1-eb4e8812fe61",
   "metadata": {},
   "outputs": [
    {
     "data": {
      "text/plain": [
       "[412000]"
      ]
     },
     "execution_count": 16,
     "metadata": {},
     "output_type": "execute_result"
    }
   ],
   "source": [
    "outliers = detect_outliers(x['salary_in_usd'])\n",
    "outliers"
   ]
  },
  {
   "cell_type": "code",
   "execution_count": 17,
   "id": "ecbcee73-a51e-4a50-a097-d4948c6c70b8",
   "metadata": {},
   "outputs": [
    {
     "name": "stdout",
     "output_type": "stream",
     "text": [
      "      id  work_year experience_level employment_type  \\\n",
      "128  128       2021               EN              FT   \n",
      "202  202       2021               MI              FT   \n",
      "116  116       2021               MI              FT   \n",
      "589  589       2022               SE              FT   \n",
      "183  183       2021               SE              FT   \n",
      "103  103       2021               MI              FT   \n",
      "188  188       2021               SE              FT   \n",
      "80    80       2021               SE              FT   \n",
      "0      0       2020               MI              FT   \n",
      "171  171       2021               MI              FT   \n",
      "437  437       2022               MI              FT   \n",
      "435  435       2022               MI              FT   \n",
      "266  266       2021               MI              FT   \n",
      "341  341       2022               SE              FT   \n",
      "461  461       2022               EN              FT   \n",
      "144  144       2021               MI              FT   \n",
      "488  488       2022               MI              FL   \n",
      "240  240       2021               SE              FT   \n",
      "111  111       2021               SE              FT   \n",
      "540  540       2022               SE              FT   \n",
      "465  465       2022               EN              FT   \n",
      "325  325       2022               SE              FT   \n",
      "527  527       2022               SE              FT   \n",
      "55    55       2020               SE              FT   \n",
      "125  125       2021               MI              FT   \n",
      "444  444       2022               SE              FT   \n",
      "398  398       2022               SE              FT   \n",
      "138  138       2021               SE              FT   \n",
      "472  472       2022               SE              FT   \n",
      "63    63       2020               SE              FT   \n",
      "\n",
      "                        job_title  salary salary_currency  salary_in_usd  \\\n",
      "128     Machine Learning Engineer   20000             USD          20000   \n",
      "202                Data Scientist   32000             EUR          37825   \n",
      "116                Data Scientist   50000             USD          50000   \n",
      "589                  Data Analyst   60000             USD          60000   \n",
      "183          Finance Data Analyst   45000             GBP          61896   \n",
      "103                  Data Analyst   62000             USD          62000   \n",
      "188                 Data Engineer   65000             EUR          76833   \n",
      "80        Data Analytics Engineer   67000             EUR          79197   \n",
      "0                  Data Scientist   70000             EUR          79833   \n",
      "171                 Data Engineer   60000             GBP          82528   \n",
      "437                 Data Engineer   80000             EUR          87932   \n",
      "435                 Data Engineer   70000             GBP          91614   \n",
      "266                 Data Engineer   93150             USD          93150   \n",
      "341                 Data Engineer   93700             USD          93700   \n",
      "461        Financial Data Analyst  100000             USD         100000   \n",
      "144                 Data Engineer  100000             USD         100000   \n",
      "488                Data Scientist  100000             USD         100000   \n",
      "240                Data Scientist  130000             CAD         103691   \n",
      "111  Director of Data Engineering   82500             GBP         113476   \n",
      "540                  Data Analyst  115934             USD         115934   \n",
      "465                 Data Engineer  120000             USD         120000   \n",
      "325                  Data Analyst  124190             USD         124190   \n",
      "527                  Data Analyst  135000             USD         135000   \n",
      "55       Principal Data Scientist  130000             EUR         148261   \n",
      "125      Principal Data Scientist  151000             USD         151000   \n",
      "444                Data Scientist  215300             USD         215300   \n",
      "398                Data Scientist  215300             USD         215300   \n",
      "138      Principal Data Scientist  220000             USD         220000   \n",
      "472                Data Scientist  220000             USD         220000   \n",
      "63                 Data Scientist  412000             USD         412000   \n",
      "\n",
      "    employee_residence  remote_ratio company_location company_size  \n",
      "128                 IN           100               IN            S  \n",
      "202                 ES           100               ES            L  \n",
      "116                 NG           100               NG            L  \n",
      "589                 US           100               US            M  \n",
      "183                 GB            50               GB            L  \n",
      "103                 US             0               US            L  \n",
      "188                 RO            50               GB            S  \n",
      "80                  DE           100               DE            L  \n",
      "0                   DE             0               DE            L  \n",
      "171                 GB           100               GB            L  \n",
      "437                 GR           100               GR            M  \n",
      "435                 GB           100               GB            M  \n",
      "266                 US             0               US            M  \n",
      "341                 US           100               US            M  \n",
      "461                 US            50               US            L  \n",
      "144                 US           100               US            L  \n",
      "488                 CA           100               US            M  \n",
      "240                 CA           100               CA            L  \n",
      "111                 GB           100               GB            M  \n",
      "540                 US           100               US            M  \n",
      "465                 US           100               US            M  \n",
      "325                 US           100               US            M  \n",
      "527                 US           100               US            M  \n",
      "55                  DE           100               DE            M  \n",
      "125                 US           100               US            L  \n",
      "444                 US             0               US            L  \n",
      "398                 US           100               US            L  \n",
      "138                 US             0               US            L  \n",
      "472                 US           100               US            M  \n",
      "63                  US           100               US            L  \n"
     ]
    }
   ],
   "source": [
    "df= x.sort_values(by='salary_in_usd')\n",
    "# df.head()\n",
    "print(df)"
   ]
  },
  {
   "cell_type": "code",
   "execution_count": 18,
   "id": "98562e90-ec9d-41f1-ad0d-e6603bce6f10",
   "metadata": {},
   "outputs": [
    {
     "data": {
      "text/plain": [
       "<AxesSubplot:ylabel='salary_in_usd'>"
      ]
     },
     "execution_count": 18,
     "metadata": {},
     "output_type": "execute_result"
    },
    {
     "data": {
      "image/png": "[encoded data removed]",
      "text/plain": [
       "<Figure size 640x480 with 1 Axes>"
      ]
     },
     "metadata": {},
     "output_type": "display_data"
    }
   ],
   "source": [
    "sns.boxplot(df['salary_in_usd'])"
   ]
  },
  {
   "cell_type": "code",
   "execution_count": 19,
   "id": "8dfea63a-9a9f-4e79-b18c-edb0d1015090",
   "metadata": {},
   "outputs": [
    {
     "name": "stdout",
     "output_type": "stream",
     "text": [
      "Q1: 79356.0\n",
      "Q3: 132297.5\n"
     ]
    }
   ],
   "source": [
    "Q1, Q3 = np.percentile(df['salary_in_usd'], [25, 75])\n",
    "\n",
    "print(f\"Q1: {Q1}\")\n",
    "print(f\"Q3: {Q3}\")"
   ]
  },
  {
   "cell_type": "code",
   "execution_count": 20,
   "id": "2e3f64ca-75a0-453f-885c-342be9d8daea",
   "metadata": {},
   "outputs": [
    {
     "name": "stdout",
     "output_type": "stream",
     "text": [
      "IQR: 52941.5\n"
     ]
    }
   ],
   "source": [
    "iqr = Q3 - Q1\n",
    "\n",
    "print(f\"IQR: {iqr}\")"
   ]
  },
  {
   "cell_type": "code",
   "execution_count": 21,
   "id": "6d23bd2d-0ed6-4c26-ae49-80c94fd06dcc",
   "metadata": {},
   "outputs": [
    {
     "name": "stdout",
     "output_type": "stream",
     "text": [
      "Lower Fence: -56.25\n",
      "Upper Fence: 211709.75\n"
     ]
    }
   ],
   "source": [
    "lower_fence = Q1 - (1.5 * iqr)\n",
    "upper_fence = Q3 + (1.5 * iqr)\n",
    "\n",
    "print(f\"Lower Fence: {lower_fence}\")\n",
    "print(f\"Upper Fence: {upper_fence}\")"
   ]
  },
  {
   "cell_type": "code",
   "execution_count": 38,
   "id": "7f80a678-5173-403c-beda-30e2dc7f684b",
   "metadata": {},
   "outputs": [],
   "source": [
    "def detect_outlier_using_iqr(data, iqr, lower_fence, upper_fence):\n",
    "  outliers = []\n",
    "  for i in data:\n",
    "      if isinstance(i, str):\n",
    "          continue\n",
    "      if i < lower_fence or i > upper_fence:\n",
    "          outliers.append(i)\n",
    "\n",
    "  return outliers"
   ]
  },
  {
   "cell_type": "code",
   "execution_count": 40,
   "id": "30d431a3-b83e-49fb-92d5-a65e690c14c0",
   "metadata": {},
   "outputs": [
    {
     "name": "stdout",
     "output_type": "stream",
     "text": [
      "Detected Outliers:\n",
      " [215300, 215300, 220000, 220000, 412000]\n"
     ]
    }
   ],
   "source": [
    "outliers = detect_outlier_using_iqr(df['salary_in_usd'], iqr, lower_fence, upper_fence)\n",
    "print(f'Detected Outliers:\\n {outliers}')"
   ]
  },
  {
   "cell_type": "code",
   "execution_count": null,
   "id": "966a8f1f-b031-4490-ba65-6e712b0357bd",
   "metadata": {},
   "outputs": [],
   "source": []
  },
  {
   "cell_type": "code",
   "execution_count": null,
   "id": "54a21018-82ca-487b-950d-b7bde943b3c8",
   "metadata": {},
   "outputs": [],
   "source": []
  },
  {
   "cell_type": "code",
   "execution_count": null,
   "id": "39b6c9b3-a215-4c55-8309-20ec4fbb090e",
   "metadata": {},
   "outputs": [],
   "source": []
  }
 ],
 "metadata": {
  "kernelspec": {
   "display_name": "Python 3 (ipykernel)",
   "language": "python",
   "name": "python3"
  },
  "language_info": {
   "codemirror_mode": {
    "name": "ipython",
    "version": 3
   },
   "file_extension": ".py",
   "mimetype": "text/x-python",
   "name": "python",
   "nbconvert_exporter": "python",
   "pygments_lexer": "ipython3",
   "version": "3.9.13"
  }
 },
 "nbformat": 4,
 "nbformat_minor": 5
}
