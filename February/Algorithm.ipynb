{
 "cells": [
  {
   "cell_type": "code",
   "execution_count": 2,
   "id": "84ec8b9e-8efe-42bf-b7ca-d92d5c89647e",
   "metadata": {},
   "outputs": [
    {
     "name": "stdout",
     "output_type": "stream",
     "text": [
      "Buzz\n",
      "Buzz\n",
      "fizz\n",
      "Buzz\n",
      "Buzz\n"
     ]
    }
   ],
   "source": [
    "number = [1,2,3,4,5]\n",
    "for num in number:\n",
    "    if num % 3 ==0:\n",
    "            print(\"fizz\")\n",
    "    else:\n",
    "        print(\"Buzz\")\n"
   ]
  },
  {
   "cell_type": "code",
   "execution_count": 3,
   "id": "502f95b4-e7f7-4801-9c4d-21f827815c95",
   "metadata": {},
   "outputs": [
    {
     "name": "stdout",
     "output_type": "stream",
     "text": [
      "1\n",
      "2\n",
      "Fizz\n",
      "4\n",
      "Buzz\n"
     ]
    }
   ],
   "source": [
    "number = [1,2,3,4,5]\n",
    "for num in number:\n",
    "    if num%3 == 0:\n",
    "        print(\"Fizz\")\n",
    "    elif num%5 == 0:\n",
    "        print(\"Buzz\")\n",
    "    else:\n",
    "        print(num)"
   ]
  },
  {
   "cell_type": "code",
   "execution_count": 1,
   "id": "fa598c5d-a53b-41be-bcfc-f6854caf0995",
   "metadata": {},
   "outputs": [
    {
     "name": "stdout",
     "output_type": "stream",
     "text": [
      "Num\n",
      "Num\n",
      "Fizz Buzz\n",
      "Num\n",
      "Buzz\n",
      "Fizz Buzz\n",
      "Num\n",
      "Num\n",
      "Fizz Buzz\n",
      "Buzz\n",
      "Num\n",
      "Fizz Buzz\n",
      "Num\n",
      "Num\n",
      "Fizz Buzz\n"
     ]
    }
   ],
   "source": [
    "number = [1,2,3,4,5,6,7,8,9,10,11,12,13,14,15]\n",
    "for num in number:\n",
    "    if num%3 == 0 & num%5 == 0:\n",
    "        print(\"Fizz Buzz\")\n",
    "    elif num%3 == 0:\n",
    "        print(\"Fizz\")\n",
    "    elif num%5 == 0:\n",
    "        print(\"Buzz\")\n",
    "    else:\n",
    "        print(\"Num\")"
   ]
  },
  {
   "cell_type": "code",
   "execution_count": 2,
   "id": "0b3d35c3-4808-4d44-bff2-8e18a40bee7b",
   "metadata": {},
   "outputs": [
    {
     "name": "stdout",
     "output_type": "stream",
     "text": [
      "Collecting nbdime\n",
      "  Downloading nbdime-4.0.1-py3-none-any.whl.metadata (9.5 kB)\n",
      "Requirement already satisfied: colorama in c:\\users\\arun\\appdata\\local\\programs\\python\\python39\\lib\\site-packages (from nbdime) (0.4.6)\n",
      "Collecting gitpython!=2.1.4,!=2.1.5,!=2.1.6 (from nbdime)\n",
      "  Downloading GitPython-3.1.42-py3-none-any.whl.metadata (12 kB)\n",
      "Requirement already satisfied: jinja2>=2.9 in c:\\users\\arun\\appdata\\local\\programs\\python\\python39\\lib\\site-packages (from nbdime) (3.1.2)\n",
      "Requirement already satisfied: jupyter-server in c:\\users\\arun\\appdata\\local\\programs\\python\\python39\\lib\\site-packages (from nbdime) (2.12.1)\n",
      "Collecting jupyter-server-mathjax>=0.2.2 (from nbdime)\n",
      "  Downloading jupyter_server_mathjax-0.2.6-py3-none-any.whl.metadata (2.1 kB)\n",
      "Requirement already satisfied: nbformat in c:\\users\\arun\\appdata\\local\\programs\\python\\python39\\lib\\site-packages (from nbdime) (5.9.2)\n",
      "Requirement already satisfied: pygments in c:\\users\\arun\\appdata\\local\\programs\\python\\python39\\lib\\site-packages (from nbdime) (2.15.1)\n",
      "Requirement already satisfied: requests in c:\\users\\arun\\appdata\\local\\programs\\python\\python39\\lib\\site-packages (from nbdime) (2.31.0)\n",
      "Requirement already satisfied: tornado in c:\\users\\arun\\appdata\\local\\programs\\python\\python39\\lib\\site-packages (from nbdime) (6.4)\n",
      "Collecting gitdb<5,>=4.0.1 (from gitpython!=2.1.4,!=2.1.5,!=2.1.6->nbdime)\n",
      "  Downloading gitdb-4.0.11-py3-none-any.whl.metadata (1.2 kB)\n",
      "Requirement already satisfied: MarkupSafe>=2.0 in c:\\users\\arun\\appdata\\local\\programs\\python\\python39\\lib\\site-packages (from jinja2>=2.9->nbdime) (2.1.3)\n",
      "Requirement already satisfied: anyio>=3.1.0 in c:\\users\\arun\\appdata\\local\\programs\\python\\python39\\lib\\site-packages (from jupyter-server->nbdime) (4.1.0)\n",
      "Requirement already satisfied: argon2-cffi in c:\\users\\arun\\appdata\\local\\programs\\python\\python39\\lib\\site-packages (from jupyter-server->nbdime) (23.1.0)\n",
      "Requirement already satisfied: jupyter-client>=7.4.4 in c:\\users\\arun\\appdata\\local\\programs\\python\\python39\\lib\\site-packages (from jupyter-server->nbdime) (8.6.0)\n",
      "Requirement already satisfied: jupyter-core!=5.0.*,>=4.12 in c:\\users\\arun\\appdata\\local\\programs\\python\\python39\\lib\\site-packages (from jupyter-server->nbdime) (5.5.0)\n",
      "Requirement already satisfied: jupyter-events>=0.9.0 in c:\\users\\arun\\appdata\\local\\programs\\python\\python39\\lib\\site-packages (from jupyter-server->nbdime) (0.9.0)\n",
      "Requirement already satisfied: jupyter-server-terminals in c:\\users\\arun\\appdata\\local\\programs\\python\\python39\\lib\\site-packages (from jupyter-server->nbdime) (0.5.0)\n",
      "Requirement already satisfied: nbconvert>=6.4.4 in c:\\users\\arun\\appdata\\local\\programs\\python\\python39\\lib\\site-packages (from jupyter-server->nbdime) (7.12.0)\n",
      "Requirement already satisfied: overrides in c:\\users\\arun\\appdata\\local\\programs\\python\\python39\\lib\\site-packages (from jupyter-server->nbdime) (7.4.0)\n",
      "Requirement already satisfied: packaging in c:\\users\\arun\\appdata\\local\\programs\\python\\python39\\lib\\site-packages (from jupyter-server->nbdime) (23.1)\n",
      "Requirement already satisfied: prometheus-client in c:\\users\\arun\\appdata\\local\\programs\\python\\python39\\lib\\site-packages (from jupyter-server->nbdime) (0.19.0)\n",
      "Requirement already satisfied: pywinpty in c:\\users\\arun\\appdata\\local\\programs\\python\\python39\\lib\\site-packages (from jupyter-server->nbdime) (2.0.12)\n",
      "Requirement already satisfied: pyzmq>=24 in c:\\users\\arun\\appdata\\local\\programs\\python\\python39\\lib\\site-packages (from jupyter-server->nbdime) (25.1.2)\n",
      "Requirement already satisfied: send2trash>=1.8.2 in c:\\users\\arun\\appdata\\local\\programs\\python\\python39\\lib\\site-packages (from jupyter-server->nbdime) (1.8.2)\n",
      "Requirement already satisfied: terminado>=0.8.3 in c:\\users\\arun\\appdata\\local\\programs\\python\\python39\\lib\\site-packages (from jupyter-server->nbdime) (0.18.0)\n",
      "Requirement already satisfied: traitlets>=5.6.0 in c:\\users\\arun\\appdata\\local\\programs\\python\\python39\\lib\\site-packages (from jupyter-server->nbdime) (5.14.0)\n",
      "Requirement already satisfied: websocket-client in c:\\users\\arun\\appdata\\local\\programs\\python\\python39\\lib\\site-packages (from jupyter-server->nbdime) (1.7.0)\n",
      "Requirement already satisfied: fastjsonschema in c:\\users\\arun\\appdata\\local\\programs\\python\\python39\\lib\\site-packages (from nbformat->nbdime) (2.19.0)\n",
      "Requirement already satisfied: jsonschema>=2.6 in c:\\users\\arun\\appdata\\local\\programs\\python\\python39\\lib\\site-packages (from nbformat->nbdime) (4.20.0)\n",
      "Requirement already satisfied: charset-normalizer<4,>=2 in c:\\users\\arun\\appdata\\local\\programs\\python\\python39\\lib\\site-packages (from requests->nbdime) (3.1.0)\n",
      "Requirement already satisfied: idna<4,>=2.5 in c:\\users\\arun\\appdata\\local\\programs\\python\\python39\\lib\\site-packages (from requests->nbdime) (3.4)\n",
      "Requirement already satisfied: urllib3<3,>=1.21.1 in c:\\users\\arun\\appdata\\local\\programs\\python\\python39\\lib\\site-packages (from requests->nbdime) (1.26.16)\n",
      "Requirement already satisfied: certifi>=2017.4.17 in c:\\users\\arun\\appdata\\local\\programs\\python\\python39\\lib\\site-packages (from requests->nbdime) (2023.5.7)\n",
      "Requirement already satisfied: sniffio>=1.1 in c:\\users\\arun\\appdata\\local\\programs\\python\\python39\\lib\\site-packages (from anyio>=3.1.0->jupyter-server->nbdime) (1.3.0)\n",
      "Requirement already satisfied: exceptiongroup>=1.0.2 in c:\\users\\arun\\appdata\\local\\programs\\python\\python39\\lib\\site-packages (from anyio>=3.1.0->jupyter-server->nbdime) (1.1.1)\n",
      "Collecting smmap<6,>=3.0.1 (from gitdb<5,>=4.0.1->gitpython!=2.1.4,!=2.1.5,!=2.1.6->nbdime)\n",
      "  Downloading smmap-5.0.1-py3-none-any.whl.metadata (4.3 kB)\n",
      "Requirement already satisfied: attrs>=22.2.0 in c:\\users\\arun\\appdata\\local\\programs\\python\\python39\\lib\\site-packages (from jsonschema>=2.6->nbformat->nbdime) (23.1.0)\n",
      "Requirement already satisfied: jsonschema-specifications>=2023.03.6 in c:\\users\\arun\\appdata\\local\\programs\\python\\python39\\lib\\site-packages (from jsonschema>=2.6->nbformat->nbdime) (2023.11.2)\n",
      "Requirement already satisfied: referencing>=0.28.4 in c:\\users\\arun\\appdata\\local\\programs\\python\\python39\\lib\\site-packages (from jsonschema>=2.6->nbformat->nbdime) (0.32.0)\n",
      "Requirement already satisfied: rpds-py>=0.7.1 in c:\\users\\arun\\appdata\\local\\programs\\python\\python39\\lib\\site-packages (from jsonschema>=2.6->nbformat->nbdime) (0.13.2)\n",
      "Requirement already satisfied: importlib-metadata>=4.8.3 in c:\\users\\arun\\appdata\\local\\programs\\python\\python39\\lib\\site-packages (from jupyter-client>=7.4.4->jupyter-server->nbdime) (6.8.0)\n",
      "Requirement already satisfied: python-dateutil>=2.8.2 in c:\\users\\arun\\appdata\\local\\programs\\python\\python39\\lib\\site-packages (from jupyter-client>=7.4.4->jupyter-server->nbdime) (2.8.2)\n",
      "Requirement already satisfied: platformdirs>=2.5 in c:\\users\\arun\\appdata\\local\\programs\\python\\python39\\lib\\site-packages (from jupyter-core!=5.0.*,>=4.12->jupyter-server->nbdime) (4.1.0)\n",
      "Requirement already satisfied: pywin32>=300 in c:\\users\\arun\\appdata\\local\\programs\\python\\python39\\lib\\site-packages (from jupyter-core!=5.0.*,>=4.12->jupyter-server->nbdime) (306)\n",
      "Requirement already satisfied: python-json-logger>=2.0.4 in c:\\users\\arun\\appdata\\local\\programs\\python\\python39\\lib\\site-packages (from jupyter-events>=0.9.0->jupyter-server->nbdime) (2.0.7)\n",
      "Requirement already satisfied: pyyaml>=5.3 in c:\\users\\arun\\appdata\\local\\programs\\python\\python39\\lib\\site-packages (from jupyter-events>=0.9.0->jupyter-server->nbdime) (6.0.1)\n",
      "Requirement already satisfied: rfc3339-validator in c:\\users\\arun\\appdata\\local\\programs\\python\\python39\\lib\\site-packages (from jupyter-events>=0.9.0->jupyter-server->nbdime) (0.1.4)\n",
      "Requirement already satisfied: rfc3986-validator>=0.1.1 in c:\\users\\arun\\appdata\\local\\programs\\python\\python39\\lib\\site-packages (from jupyter-events>=0.9.0->jupyter-server->nbdime) (0.1.1)\n",
      "Requirement already satisfied: beautifulsoup4 in c:\\users\\arun\\appdata\\local\\programs\\python\\python39\\lib\\site-packages (from nbconvert>=6.4.4->jupyter-server->nbdime) (4.12.2)\n",
      "Requirement already satisfied: bleach!=5.0.0 in c:\\users\\arun\\appdata\\local\\programs\\python\\python39\\lib\\site-packages (from nbconvert>=6.4.4->jupyter-server->nbdime) (6.0.0)\n",
      "Requirement already satisfied: defusedxml in c:\\users\\arun\\appdata\\local\\programs\\python\\python39\\lib\\site-packages (from nbconvert>=6.4.4->jupyter-server->nbdime) (0.7.1)\n",
      "Requirement already satisfied: jupyterlab-pygments in c:\\users\\arun\\appdata\\local\\programs\\python\\python39\\lib\\site-packages (from nbconvert>=6.4.4->jupyter-server->nbdime) (0.3.0)\n",
      "Requirement already satisfied: mistune<4,>=2.0.3 in c:\\users\\arun\\appdata\\local\\programs\\python\\python39\\lib\\site-packages (from nbconvert>=6.4.4->jupyter-server->nbdime) (3.0.2)\n",
      "Requirement already satisfied: nbclient>=0.5.0 in c:\\users\\arun\\appdata\\local\\programs\\python\\python39\\lib\\site-packages (from nbconvert>=6.4.4->jupyter-server->nbdime) (0.9.0)\n",
      "Requirement already satisfied: pandocfilters>=1.4.1 in c:\\users\\arun\\appdata\\local\\programs\\python\\python39\\lib\\site-packages (from nbconvert>=6.4.4->jupyter-server->nbdime) (1.5.0)\n",
      "Requirement already satisfied: tinycss2 in c:\\users\\arun\\appdata\\local\\programs\\python\\python39\\lib\\site-packages (from nbconvert>=6.4.4->jupyter-server->nbdime) (1.2.1)\n",
      "Requirement already satisfied: argon2-cffi-bindings in c:\\users\\arun\\appdata\\local\\programs\\python\\python39\\lib\\site-packages (from argon2-cffi->jupyter-server->nbdime) (21.2.0)\n",
      "Requirement already satisfied: six>=1.9.0 in c:\\users\\arun\\appdata\\local\\programs\\python\\python39\\lib\\site-packages (from bleach!=5.0.0->nbconvert>=6.4.4->jupyter-server->nbdime) (1.16.0)\n",
      "Requirement already satisfied: webencodings in c:\\users\\arun\\appdata\\local\\programs\\python\\python39\\lib\\site-packages (from bleach!=5.0.0->nbconvert>=6.4.4->jupyter-server->nbdime) (0.5.1)\n",
      "Requirement already satisfied: zipp>=0.5 in c:\\users\\arun\\appdata\\local\\programs\\python\\python39\\lib\\site-packages (from importlib-metadata>=4.8.3->jupyter-client>=7.4.4->jupyter-server->nbdime) (3.16.1)\n",
      "Requirement already satisfied: fqdn in c:\\users\\arun\\appdata\\local\\programs\\python\\python39\\lib\\site-packages (from jsonschema[format-nongpl]>=4.18.0->jupyter-events>=0.9.0->jupyter-server->nbdime) (1.5.1)\n",
      "Requirement already satisfied: isoduration in c:\\users\\arun\\appdata\\local\\programs\\python\\python39\\lib\\site-packages (from jsonschema[format-nongpl]>=4.18.0->jupyter-events>=0.9.0->jupyter-server->nbdime) (20.11.0)\n",
      "Requirement already satisfied: jsonpointer>1.13 in c:\\users\\arun\\appdata\\local\\programs\\python\\python39\\lib\\site-packages (from jsonschema[format-nongpl]>=4.18.0->jupyter-events>=0.9.0->jupyter-server->nbdime) (2.4)\n",
      "Requirement already satisfied: uri-template in c:\\users\\arun\\appdata\\local\\programs\\python\\python39\\lib\\site-packages (from jsonschema[format-nongpl]>=4.18.0->jupyter-events>=0.9.0->jupyter-server->nbdime) (1.3.0)\n",
      "Requirement already satisfied: webcolors>=1.11 in c:\\users\\arun\\appdata\\local\\programs\\python\\python39\\lib\\site-packages (from jsonschema[format-nongpl]>=4.18.0->jupyter-events>=0.9.0->jupyter-server->nbdime) (1.13)\n",
      "Requirement already satisfied: cffi>=1.0.1 in c:\\users\\arun\\appdata\\local\\programs\\python\\python39\\lib\\site-packages (from argon2-cffi-bindings->argon2-cffi->jupyter-server->nbdime) (1.16.0)\n",
      "Requirement already satisfied: soupsieve>1.2 in c:\\users\\arun\\appdata\\local\\programs\\python\\python39\\lib\\site-packages (from beautifulsoup4->nbconvert>=6.4.4->jupyter-server->nbdime) (2.4.1)\n",
      "Requirement already satisfied: pycparser in c:\\users\\arun\\appdata\\local\\programs\\python\\python39\\lib\\site-packages (from cffi>=1.0.1->argon2-cffi-bindings->argon2-cffi->jupyter-server->nbdime) (2.21)\n",
      "Requirement already satisfied: arrow>=0.15.0 in c:\\users\\arun\\appdata\\local\\programs\\python\\python39\\lib\\site-packages (from isoduration->jsonschema[format-nongpl]>=4.18.0->jupyter-events>=0.9.0->jupyter-server->nbdime) (1.3.0)\n",
      "Requirement already satisfied: types-python-dateutil>=2.8.10 in c:\\users\\arun\\appdata\\local\\programs\\python\\python39\\lib\\site-packages (from arrow>=0.15.0->isoduration->jsonschema[format-nongpl]>=4.18.0->jupyter-events>=0.9.0->jupyter-server->nbdime) (2.8.19.14)\n",
      "Downloading nbdime-4.0.1-py3-none-any.whl (5.9 MB)\n",
      "   ---------------------------------------- 0.0/5.9 MB ? eta -:--:--\n",
      "   ---------------------------------------- 0.0/5.9 MB 660.6 kB/s eta 0:00:09\n",
      "   ---------------------------------------- 0.1/5.9 MB 656.4 kB/s eta 0:00:09\n",
      "    --------------------------------------- 0.1/5.9 MB 819.2 kB/s eta 0:00:08\n",
      "    --------------------------------------- 0.1/5.9 MB 804.6 kB/s eta 0:00:08\n",
      "   -- ------------------------------------- 0.3/5.9 MB 1.4 MB/s eta 0:00:05\n",
      "   --- ------------------------------------ 0.5/5.9 MB 1.7 MB/s eta 0:00:04\n",
      "   ---- ----------------------------------- 0.7/5.9 MB 2.1 MB/s eta 0:00:03\n",
      "   ----- ---------------------------------- 0.8/5.9 MB 2.3 MB/s eta 0:00:03\n",
      "   ------- -------------------------------- 1.1/5.9 MB 2.6 MB/s eta 0:00:02\n",
      "   -------- ------------------------------- 1.3/5.9 MB 2.9 MB/s eta 0:00:02\n",
      "   --------- ------------------------------ 1.4/5.9 MB 2.9 MB/s eta 0:00:02\n",
      "   --------- ------------------------------ 1.4/5.9 MB 2.9 MB/s eta 0:00:02\n",
      "   --------- ------------------------------ 1.4/5.9 MB 2.9 MB/s eta 0:00:02\n",
      "   --------- ------------------------------ 1.4/5.9 MB 2.9 MB/s eta 0:00:02\n",
      "   --------- ------------------------------ 1.4/5.9 MB 2.9 MB/s eta 0:00:02\n",
      "   -------------- ------------------------- 2.1/5.9 MB 2.9 MB/s eta 0:00:02\n",
      "   ------------------- -------------------- 2.9/5.9 MB 3.7 MB/s eta 0:00:01\n",
      "   -------------------- ------------------- 3.0/5.9 MB 3.7 MB/s eta 0:00:01\n",
      "   -------------------- ------------------- 3.0/5.9 MB 3.7 MB/s eta 0:00:01\n",
      "   -------------------- ------------------- 3.0/5.9 MB 3.7 MB/s eta 0:00:01\n",
      "   ------------------------ --------------- 3.6/5.9 MB 3.7 MB/s eta 0:00:01\n",
      "   ------------------------- -------------- 3.8/5.9 MB 3.7 MB/s eta 0:00:01\n",
      "   -------------------------- ------------- 3.9/5.9 MB 3.7 MB/s eta 0:00:01\n",
      "   -------------------------- ------------- 3.9/5.9 MB 3.5 MB/s eta 0:00:01\n",
      "   --------------------------- ------------ 4.1/5.9 MB 3.5 MB/s eta 0:00:01\n",
      "   ----------------------------- ---------- 4.3/5.9 MB 3.6 MB/s eta 0:00:01\n",
      "   ----------------------------- ---------- 4.4/5.9 MB 3.6 MB/s eta 0:00:01\n",
      "   ----------------------------- ---------- 4.4/5.9 MB 3.4 MB/s eta 0:00:01\n",
      "   ------------------------------- -------- 4.6/5.9 MB 3.4 MB/s eta 0:00:01\n",
      "   -------------------------------- ------- 4.7/5.9 MB 3.4 MB/s eta 0:00:01\n",
      "   --------------------------------- ------ 5.0/5.9 MB 3.5 MB/s eta 0:00:01\n",
      "   ----------------------------------- ---- 5.2/5.9 MB 3.5 MB/s eta 0:00:01\n",
      "   ------------------------------------ --- 5.4/5.9 MB 3.5 MB/s eta 0:00:01\n",
      "   ------------------------------------- -- 5.6/5.9 MB 3.5 MB/s eta 0:00:01\n",
      "   ---------------------------------------  5.8/5.9 MB 3.5 MB/s eta 0:00:01\n",
      "   ---------------------------------------  5.9/5.9 MB 3.6 MB/s eta 0:00:01\n",
      "   ---------------------------------------- 5.9/5.9 MB 3.5 MB/s eta 0:00:00\n",
      "Downloading GitPython-3.1.42-py3-none-any.whl (195 kB)\n",
      "   ---------------------------------------- 0.0/195.4 kB ? eta -:--:--\n",
      "   ---------------------------------------  194.6/195.4 kB 5.9 MB/s eta 0:00:01\n",
      "   ---------------------------------------- 195.4/195.4 kB 3.9 MB/s eta 0:00:00\n",
      "Downloading jupyter_server_mathjax-0.2.6-py3-none-any.whl (3.1 MB)\n",
      "   ---------------------------------------- 0.0/3.1 MB ? eta -:--:--\n",
      "   --- ------------------------------------ 0.3/3.1 MB 5.2 MB/s eta 0:00:01\n",
      "   ----- ---------------------------------- 0.5/3.1 MB 4.8 MB/s eta 0:00:01\n",
      "   -------- ------------------------------- 0.6/3.1 MB 4.4 MB/s eta 0:00:01\n",
      "   ---------- ----------------------------- 0.8/3.1 MB 4.2 MB/s eta 0:00:01\n",
      "   ------------ --------------------------- 1.0/3.1 MB 4.2 MB/s eta 0:00:01\n",
      "   --------------- ------------------------ 1.2/3.1 MB 4.3 MB/s eta 0:00:01\n",
      "   ---------------- ----------------------- 1.3/3.1 MB 4.2 MB/s eta 0:00:01\n",
      "   ------------------ --------------------- 1.5/3.1 MB 3.9 MB/s eta 0:00:01\n",
      "   --------------------- ------------------ 1.7/3.1 MB 3.9 MB/s eta 0:00:01\n",
      "   ------------------------ --------------- 1.9/3.1 MB 4.0 MB/s eta 0:00:01\n",
      "   -------------------------- ------------- 2.1/3.1 MB 4.0 MB/s eta 0:00:01\n",
      "   ----------------------------- ---------- 2.3/3.1 MB 4.1 MB/s eta 0:00:01\n",
      "   -------------------------------- ------- 2.5/3.1 MB 4.1 MB/s eta 0:00:01\n",
      "   --------------------------------- ------ 2.6/3.1 MB 4.0 MB/s eta 0:00:01\n",
      "   ------------------------------------- -- 2.9/3.1 MB 4.1 MB/s eta 0:00:01\n",
      "   -------------------------------------- - 3.0/3.1 MB 4.0 MB/s eta 0:00:01\n",
      "   ---------------------------------------- 3.1/3.1 MB 4.0 MB/s eta 0:00:00\n",
      "Downloading gitdb-4.0.11-py3-none-any.whl (62 kB)\n",
      "   ---------------------------------------- 0.0/62.7 kB ? eta -:--:--\n",
      "   ---------------------------------------- 62.7/62.7 kB 3.3 MB/s eta 0:00:00\n",
      "Downloading smmap-5.0.1-py3-none-any.whl (24 kB)\n",
      "Installing collected packages: smmap, gitdb, gitpython, jupyter-server-mathjax, nbdime\n",
      "Successfully installed gitdb-4.0.11 gitpython-3.1.42 jupyter-server-mathjax-0.2.6 nbdime-4.0.1 smmap-5.0.1\n",
      "Note: you may need to restart the kernel to use updated packages.\n"
     ]
    },
    {
     "name": "stderr",
     "output_type": "stream",
     "text": [
      "WARNING: Ignoring invalid distribution -jango (c:\\users\\arun\\appdata\\local\\programs\\python\\python39\\lib\\site-packages)\n",
      "WARNING: Ignoring invalid distribution -jango (c:\\users\\arun\\appdata\\local\\programs\\python\\python39\\lib\\site-packages)\n",
      "\n",
      "[notice] A new release of pip is available: 23.3.1 -> 24.0\n",
      "[notice] To update, run: python.exe -m pip install --upgrade pip\n"
     ]
    }
   ],
   "source": [
    "pip install nbdime"
   ]
  },
  {
   "cell_type": "code",
   "execution_count": 3,
   "id": "ae64b617-9845-402b-9da2-d8ee1c1399a8",
   "metadata": {},
   "outputs": [
    {
     "name": "stdout",
     "output_type": "stream",
     "text": [
      "The equation is:\n"
     ]
    },
    {
     "data": {
      "text/latex": [
       "$\\displaystyle y= 3x + 5$"
      ],
      "text/plain": [
       "<IPython.core.display.Math object>"
      ]
     },
     "metadata": {},
     "output_type": "display_data"
    }
   ],
   "source": [
    "from IPython.display import display, Math, Latex\n",
    "a = 3\n",
    "b = 5\n",
    "print(\"The equation is:\")\n",
    "display(Math(f'y= {a}x + {b}'))"
   ]
  },
  {
   "cell_type": "code",
   "execution_count": 2,
   "id": "c6e1ad8a-6132-4520-b036-643a402e07c3",
   "metadata": {},
   "outputs": [],
   "source": [
    "class Solution(object):\n",
    "    def longestPalindrome(self, s):\n",
    "        \"\"\"\n",
    "        :type s: str\n",
    "        :rtype: str\n",
    "        \"\"\"\n",
    "\n",
    "        res = \"\"\n",
    "        for i in range(len(s)):\n",
    "            res = max(self.helper(s,i,i), self.helper(s,i,i+1), res, key=len)\n",
    "\n",
    "        return res\n",
    "       \n",
    "        \n",
    "    def helper(self,s,l,r):\n",
    "        \n",
    "        while 0<=l and r < len(s) and s[l]==s[r]:\n",
    "                l-=1; r+=1\n",
    "        return s[l+1:r]"
   ]
  },
  {
   "cell_type": "code",
   "execution_count": null,
   "id": "308d3dc0-1367-4861-bacd-97b7144d4667",
   "metadata": {},
   "outputs": [],
   "source": []
  },
  {
   "cell_type": "code",
   "execution_count": null,
   "id": "051d9b4d-eafb-40d0-81dc-60989e08c610",
   "metadata": {},
   "outputs": [],
   "source": []
  }
 ],
 "metadata": {
  "kernelspec": {
   "display_name": "Python 3 (ipykernel)",
   "language": "python",
   "name": "python3"
  },
  "language_info": {
   "codemirror_mode": {
    "name": "ipython",
    "version": 3
   },
   "file_extension": ".py",
   "mimetype": "text/x-python",
   "name": "python",
   "nbconvert_exporter": "python",
   "pygments_lexer": "ipython3",
   "version": "3.9.13"
  }
 },
 "nbformat": 4,
 "nbformat_minor": 5
}
